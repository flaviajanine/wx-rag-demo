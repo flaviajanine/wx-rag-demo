{
 "cells": [
  {
   "cell_type": "code",
   "execution_count": 88,
   "metadata": {},
   "outputs": [
    {
     "name": "stdout",
     "output_type": "stream",
     "text": [
      "Requirement already satisfied: pymilvus==2.4.0 in /Users/flaviajaninebeo/Documents/Virtualenvs/wx-ai-intel-demo/lib/python3.11/site-packages (2.4.0)\n",
      "Requirement already satisfied: setuptools>=67 in /Users/flaviajaninebeo/Documents/Virtualenvs/wx-ai-intel-demo/lib/python3.11/site-packages (from pymilvus==2.4.0) (72.2.0)\n",
      "Requirement already satisfied: grpcio<=1.60.0,>=1.49.1 in /Users/flaviajaninebeo/Documents/Virtualenvs/wx-ai-intel-demo/lib/python3.11/site-packages (from pymilvus==2.4.0) (1.60.0)\n",
      "Requirement already satisfied: protobuf>=3.20.0 in /Users/flaviajaninebeo/Documents/Virtualenvs/wx-ai-intel-demo/lib/python3.11/site-packages (from pymilvus==2.4.0) (5.27.3)\n",
      "Requirement already satisfied: environs<=9.5.0 in /Users/flaviajaninebeo/Documents/Virtualenvs/wx-ai-intel-demo/lib/python3.11/site-packages (from pymilvus==2.4.0) (9.5.0)\n",
      "Requirement already satisfied: ujson>=2.0.0 in /Users/flaviajaninebeo/Documents/Virtualenvs/wx-ai-intel-demo/lib/python3.11/site-packages (from pymilvus==2.4.0) (5.10.0)\n",
      "Requirement already satisfied: pandas>=1.2.4 in /Users/flaviajaninebeo/Documents/Virtualenvs/wx-ai-intel-demo/lib/python3.11/site-packages (from pymilvus==2.4.0) (2.1.4)\n",
      "Requirement already satisfied: requests in /Users/flaviajaninebeo/Documents/Virtualenvs/wx-ai-intel-demo/lib/python3.11/site-packages (from pymilvus==2.4.0) (2.32.2)\n",
      "Requirement already satisfied: minio>=7.0.0 in /Users/flaviajaninebeo/Documents/Virtualenvs/wx-ai-intel-demo/lib/python3.11/site-packages (from pymilvus==2.4.0) (7.2.7)\n",
      "Requirement already satisfied: pyarrow>=12.0.0 in /Users/flaviajaninebeo/Documents/Virtualenvs/wx-ai-intel-demo/lib/python3.11/site-packages (from pymilvus==2.4.0) (17.0.0)\n",
      "Requirement already satisfied: azure-storage-blob in /Users/flaviajaninebeo/Documents/Virtualenvs/wx-ai-intel-demo/lib/python3.11/site-packages (from pymilvus==2.4.0) (12.22.0)\n",
      "Requirement already satisfied: scipy in /Users/flaviajaninebeo/Documents/Virtualenvs/wx-ai-intel-demo/lib/python3.11/site-packages (from pymilvus==2.4.0) (1.14.0)\n",
      "Requirement already satisfied: marshmallow>=3.0.0 in /Users/flaviajaninebeo/Documents/Virtualenvs/wx-ai-intel-demo/lib/python3.11/site-packages (from environs<=9.5.0->pymilvus==2.4.0) (3.21.3)\n",
      "Requirement already satisfied: python-dotenv in /Users/flaviajaninebeo/Documents/Virtualenvs/wx-ai-intel-demo/lib/python3.11/site-packages (from environs<=9.5.0->pymilvus==2.4.0) (1.0.1)\n",
      "Requirement already satisfied: certifi in /Users/flaviajaninebeo/Documents/Virtualenvs/wx-ai-intel-demo/lib/python3.11/site-packages (from minio>=7.0.0->pymilvus==2.4.0) (2024.7.4)\n",
      "Requirement already satisfied: urllib3 in /Users/flaviajaninebeo/Documents/Virtualenvs/wx-ai-intel-demo/lib/python3.11/site-packages (from minio>=7.0.0->pymilvus==2.4.0) (2.2.2)\n",
      "Requirement already satisfied: argon2-cffi in /Users/flaviajaninebeo/Documents/Virtualenvs/wx-ai-intel-demo/lib/python3.11/site-packages (from minio>=7.0.0->pymilvus==2.4.0) (23.1.0)\n",
      "Requirement already satisfied: pycryptodome in /Users/flaviajaninebeo/Documents/Virtualenvs/wx-ai-intel-demo/lib/python3.11/site-packages (from minio>=7.0.0->pymilvus==2.4.0) (3.20.0)\n",
      "Requirement already satisfied: typing-extensions in /Users/flaviajaninebeo/Documents/Virtualenvs/wx-ai-intel-demo/lib/python3.11/site-packages (from minio>=7.0.0->pymilvus==2.4.0) (4.12.2)\n",
      "Requirement already satisfied: numpy<2,>=1.23.2 in /Users/flaviajaninebeo/Documents/Virtualenvs/wx-ai-intel-demo/lib/python3.11/site-packages (from pandas>=1.2.4->pymilvus==2.4.0) (1.26.4)\n",
      "Requirement already satisfied: python-dateutil>=2.8.2 in /Users/flaviajaninebeo/Documents/Virtualenvs/wx-ai-intel-demo/lib/python3.11/site-packages (from pandas>=1.2.4->pymilvus==2.4.0) (2.9.0.post0)\n",
      "Requirement already satisfied: pytz>=2020.1 in /Users/flaviajaninebeo/Documents/Virtualenvs/wx-ai-intel-demo/lib/python3.11/site-packages (from pandas>=1.2.4->pymilvus==2.4.0) (2024.1)\n",
      "Requirement already satisfied: tzdata>=2022.1 in /Users/flaviajaninebeo/Documents/Virtualenvs/wx-ai-intel-demo/lib/python3.11/site-packages (from pandas>=1.2.4->pymilvus==2.4.0) (2024.1)\n",
      "Requirement already satisfied: azure-core>=1.28.0 in /Users/flaviajaninebeo/Documents/Virtualenvs/wx-ai-intel-demo/lib/python3.11/site-packages (from azure-storage-blob->pymilvus==2.4.0) (1.30.2)\n",
      "Requirement already satisfied: cryptography>=2.1.4 in /Users/flaviajaninebeo/Documents/Virtualenvs/wx-ai-intel-demo/lib/python3.11/site-packages (from azure-storage-blob->pymilvus==2.4.0) (43.0.0)\n",
      "Requirement already satisfied: isodate>=0.6.1 in /Users/flaviajaninebeo/Documents/Virtualenvs/wx-ai-intel-demo/lib/python3.11/site-packages (from azure-storage-blob->pymilvus==2.4.0) (0.6.1)\n",
      "Requirement already satisfied: charset-normalizer<4,>=2 in /Users/flaviajaninebeo/Documents/Virtualenvs/wx-ai-intel-demo/lib/python3.11/site-packages (from requests->pymilvus==2.4.0) (3.3.2)\n",
      "Requirement already satisfied: idna<4,>=2.5 in /Users/flaviajaninebeo/Documents/Virtualenvs/wx-ai-intel-demo/lib/python3.11/site-packages (from requests->pymilvus==2.4.0) (3.7)\n",
      "Requirement already satisfied: six>=1.11.0 in /Users/flaviajaninebeo/Documents/Virtualenvs/wx-ai-intel-demo/lib/python3.11/site-packages (from azure-core>=1.28.0->azure-storage-blob->pymilvus==2.4.0) (1.16.0)\n",
      "Requirement already satisfied: cffi>=1.12 in /Users/flaviajaninebeo/Documents/Virtualenvs/wx-ai-intel-demo/lib/python3.11/site-packages (from cryptography>=2.1.4->azure-storage-blob->pymilvus==2.4.0) (1.17.0)\n",
      "Requirement already satisfied: packaging>=17.0 in /Users/flaviajaninebeo/Documents/Virtualenvs/wx-ai-intel-demo/lib/python3.11/site-packages (from marshmallow>=3.0.0->environs<=9.5.0->pymilvus==2.4.0) (24.1)\n",
      "Requirement already satisfied: argon2-cffi-bindings in /Users/flaviajaninebeo/Documents/Virtualenvs/wx-ai-intel-demo/lib/python3.11/site-packages (from argon2-cffi->minio>=7.0.0->pymilvus==2.4.0) (21.2.0)\n",
      "Requirement already satisfied: pycparser in /Users/flaviajaninebeo/Documents/Virtualenvs/wx-ai-intel-demo/lib/python3.11/site-packages (from cffi>=1.12->cryptography>=2.1.4->azure-storage-blob->pymilvus==2.4.0) (2.22)\n",
      "\n",
      "\u001b[1m[\u001b[0m\u001b[34;49mnotice\u001b[0m\u001b[1;39;49m]\u001b[0m\u001b[39;49m A new release of pip is available: \u001b[0m\u001b[31;49m24.1.2\u001b[0m\u001b[39;49m -> \u001b[0m\u001b[32;49m24.2\u001b[0m\n",
      "\u001b[1m[\u001b[0m\u001b[34;49mnotice\u001b[0m\u001b[1;39;49m]\u001b[0m\u001b[39;49m To update, run: \u001b[0m\u001b[32;49mpip install --upgrade pip\u001b[0m\n",
      "Requirement already satisfied: langchain in /Users/flaviajaninebeo/Documents/Virtualenvs/wx-ai-intel-demo/lib/python3.11/site-packages (0.2.14)\n",
      "Requirement already satisfied: PyYAML>=5.3 in /Users/flaviajaninebeo/Documents/Virtualenvs/wx-ai-intel-demo/lib/python3.11/site-packages (from langchain) (6.0.2)\n",
      "Requirement already satisfied: SQLAlchemy<3,>=1.4 in /Users/flaviajaninebeo/Documents/Virtualenvs/wx-ai-intel-demo/lib/python3.11/site-packages (from langchain) (2.0.32)\n",
      "Requirement already satisfied: aiohttp<4.0.0,>=3.8.3 in /Users/flaviajaninebeo/Documents/Virtualenvs/wx-ai-intel-demo/lib/python3.11/site-packages (from langchain) (3.10.3)\n",
      "Requirement already satisfied: langchain-core<0.3.0,>=0.2.32 in /Users/flaviajaninebeo/Documents/Virtualenvs/wx-ai-intel-demo/lib/python3.11/site-packages (from langchain) (0.2.32)\n",
      "Requirement already satisfied: langchain-text-splitters<0.3.0,>=0.2.0 in /Users/flaviajaninebeo/Documents/Virtualenvs/wx-ai-intel-demo/lib/python3.11/site-packages (from langchain) (0.2.2)\n",
      "Requirement already satisfied: langsmith<0.2.0,>=0.1.17 in /Users/flaviajaninebeo/Documents/Virtualenvs/wx-ai-intel-demo/lib/python3.11/site-packages (from langchain) (0.1.99)\n",
      "Requirement already satisfied: numpy<2,>=1 in /Users/flaviajaninebeo/Documents/Virtualenvs/wx-ai-intel-demo/lib/python3.11/site-packages (from langchain) (1.26.4)\n",
      "Requirement already satisfied: pydantic<3,>=1 in /Users/flaviajaninebeo/Documents/Virtualenvs/wx-ai-intel-demo/lib/python3.11/site-packages (from langchain) (2.8.2)\n",
      "Requirement already satisfied: requests<3,>=2 in /Users/flaviajaninebeo/Documents/Virtualenvs/wx-ai-intel-demo/lib/python3.11/site-packages (from langchain) (2.32.2)\n",
      "Requirement already satisfied: tenacity!=8.4.0,<9.0.0,>=8.1.0 in /Users/flaviajaninebeo/Documents/Virtualenvs/wx-ai-intel-demo/lib/python3.11/site-packages (from langchain) (8.5.0)\n",
      "Requirement already satisfied: aiohappyeyeballs>=2.3.0 in /Users/flaviajaninebeo/Documents/Virtualenvs/wx-ai-intel-demo/lib/python3.11/site-packages (from aiohttp<4.0.0,>=3.8.3->langchain) (2.3.5)\n",
      "Requirement already satisfied: aiosignal>=1.1.2 in /Users/flaviajaninebeo/Documents/Virtualenvs/wx-ai-intel-demo/lib/python3.11/site-packages (from aiohttp<4.0.0,>=3.8.3->langchain) (1.3.1)\n",
      "Requirement already satisfied: attrs>=17.3.0 in /Users/flaviajaninebeo/Documents/Virtualenvs/wx-ai-intel-demo/lib/python3.11/site-packages (from aiohttp<4.0.0,>=3.8.3->langchain) (24.2.0)\n",
      "Requirement already satisfied: frozenlist>=1.1.1 in /Users/flaviajaninebeo/Documents/Virtualenvs/wx-ai-intel-demo/lib/python3.11/site-packages (from aiohttp<4.0.0,>=3.8.3->langchain) (1.4.1)\n",
      "Requirement already satisfied: multidict<7.0,>=4.5 in /Users/flaviajaninebeo/Documents/Virtualenvs/wx-ai-intel-demo/lib/python3.11/site-packages (from aiohttp<4.0.0,>=3.8.3->langchain) (6.0.5)\n",
      "Requirement already satisfied: yarl<2.0,>=1.0 in /Users/flaviajaninebeo/Documents/Virtualenvs/wx-ai-intel-demo/lib/python3.11/site-packages (from aiohttp<4.0.0,>=3.8.3->langchain) (1.9.4)\n",
      "Requirement already satisfied: jsonpatch<2.0,>=1.33 in /Users/flaviajaninebeo/Documents/Virtualenvs/wx-ai-intel-demo/lib/python3.11/site-packages (from langchain-core<0.3.0,>=0.2.32->langchain) (1.33)\n",
      "Requirement already satisfied: packaging<25,>=23.2 in /Users/flaviajaninebeo/Documents/Virtualenvs/wx-ai-intel-demo/lib/python3.11/site-packages (from langchain-core<0.3.0,>=0.2.32->langchain) (24.1)\n",
      "Requirement already satisfied: typing-extensions>=4.7 in /Users/flaviajaninebeo/Documents/Virtualenvs/wx-ai-intel-demo/lib/python3.11/site-packages (from langchain-core<0.3.0,>=0.2.32->langchain) (4.12.2)\n",
      "Requirement already satisfied: orjson<4.0.0,>=3.9.14 in /Users/flaviajaninebeo/Documents/Virtualenvs/wx-ai-intel-demo/lib/python3.11/site-packages (from langsmith<0.2.0,>=0.1.17->langchain) (3.10.7)\n",
      "Requirement already satisfied: annotated-types>=0.4.0 in /Users/flaviajaninebeo/Documents/Virtualenvs/wx-ai-intel-demo/lib/python3.11/site-packages (from pydantic<3,>=1->langchain) (0.7.0)\n",
      "Requirement already satisfied: pydantic-core==2.20.1 in /Users/flaviajaninebeo/Documents/Virtualenvs/wx-ai-intel-demo/lib/python3.11/site-packages (from pydantic<3,>=1->langchain) (2.20.1)\n",
      "Requirement already satisfied: charset-normalizer<4,>=2 in /Users/flaviajaninebeo/Documents/Virtualenvs/wx-ai-intel-demo/lib/python3.11/site-packages (from requests<3,>=2->langchain) (3.3.2)\n",
      "Requirement already satisfied: idna<4,>=2.5 in /Users/flaviajaninebeo/Documents/Virtualenvs/wx-ai-intel-demo/lib/python3.11/site-packages (from requests<3,>=2->langchain) (3.7)\n",
      "Requirement already satisfied: urllib3<3,>=1.21.1 in /Users/flaviajaninebeo/Documents/Virtualenvs/wx-ai-intel-demo/lib/python3.11/site-packages (from requests<3,>=2->langchain) (2.2.2)\n",
      "Requirement already satisfied: certifi>=2017.4.17 in /Users/flaviajaninebeo/Documents/Virtualenvs/wx-ai-intel-demo/lib/python3.11/site-packages (from requests<3,>=2->langchain) (2024.7.4)\n",
      "Requirement already satisfied: jsonpointer>=1.9 in /Users/flaviajaninebeo/Documents/Virtualenvs/wx-ai-intel-demo/lib/python3.11/site-packages (from jsonpatch<2.0,>=1.33->langchain-core<0.3.0,>=0.2.32->langchain) (3.0.0)\n",
      "\n",
      "\u001b[1m[\u001b[0m\u001b[34;49mnotice\u001b[0m\u001b[1;39;49m]\u001b[0m\u001b[39;49m A new release of pip is available: \u001b[0m\u001b[31;49m24.1.2\u001b[0m\u001b[39;49m -> \u001b[0m\u001b[32;49m24.2\u001b[0m\n",
      "\u001b[1m[\u001b[0m\u001b[34;49mnotice\u001b[0m\u001b[1;39;49m]\u001b[0m\u001b[39;49m To update, run: \u001b[0m\u001b[32;49mpip install --upgrade pip\u001b[0m\n",
      "Requirement already satisfied: ibm-generative-ai in /Users/flaviajaninebeo/Documents/Virtualenvs/wx-ai-intel-demo/lib/python3.11/site-packages (3.0.0)\n",
      "Requirement already satisfied: aiolimiter<2.0.0,>=1.1.0 in /Users/flaviajaninebeo/Documents/Virtualenvs/wx-ai-intel-demo/lib/python3.11/site-packages (from ibm-generative-ai) (1.1.0)\n",
      "Requirement already satisfied: deprecated<2.0.0,>=1.2.14 in /Users/flaviajaninebeo/Documents/Virtualenvs/wx-ai-intel-demo/lib/python3.11/site-packages (from ibm-generative-ai) (1.2.14)\n",
      "Requirement already satisfied: httpx<0.28.0,>=0.27.0 in /Users/flaviajaninebeo/Documents/Virtualenvs/wx-ai-intel-demo/lib/python3.11/site-packages (from ibm-generative-ai) (0.27.0)\n",
      "Requirement already satisfied: httpx-sse<0.5.0,>=0.4.0 in /Users/flaviajaninebeo/Documents/Virtualenvs/wx-ai-intel-demo/lib/python3.11/site-packages (from ibm-generative-ai) (0.4.0)\n",
      "Requirement already satisfied: pydantic<3.0.0,>=2.0.0 in /Users/flaviajaninebeo/Documents/Virtualenvs/wx-ai-intel-demo/lib/python3.11/site-packages (from ibm-generative-ai) (2.8.2)\n",
      "Requirement already satisfied: wrapt<2,>=1.10 in /Users/flaviajaninebeo/Documents/Virtualenvs/wx-ai-intel-demo/lib/python3.11/site-packages (from deprecated<2.0.0,>=1.2.14->ibm-generative-ai) (1.16.0)\n",
      "Requirement already satisfied: anyio in /Users/flaviajaninebeo/Documents/Virtualenvs/wx-ai-intel-demo/lib/python3.11/site-packages (from httpx<0.28.0,>=0.27.0->ibm-generative-ai) (4.4.0)\n",
      "Requirement already satisfied: certifi in /Users/flaviajaninebeo/Documents/Virtualenvs/wx-ai-intel-demo/lib/python3.11/site-packages (from httpx<0.28.0,>=0.27.0->ibm-generative-ai) (2024.7.4)\n",
      "Requirement already satisfied: httpcore==1.* in /Users/flaviajaninebeo/Documents/Virtualenvs/wx-ai-intel-demo/lib/python3.11/site-packages (from httpx<0.28.0,>=0.27.0->ibm-generative-ai) (1.0.5)\n",
      "Requirement already satisfied: idna in /Users/flaviajaninebeo/Documents/Virtualenvs/wx-ai-intel-demo/lib/python3.11/site-packages (from httpx<0.28.0,>=0.27.0->ibm-generative-ai) (3.7)\n",
      "Requirement already satisfied: sniffio in /Users/flaviajaninebeo/Documents/Virtualenvs/wx-ai-intel-demo/lib/python3.11/site-packages (from httpx<0.28.0,>=0.27.0->ibm-generative-ai) (1.3.1)\n",
      "Requirement already satisfied: h11<0.15,>=0.13 in /Users/flaviajaninebeo/Documents/Virtualenvs/wx-ai-intel-demo/lib/python3.11/site-packages (from httpcore==1.*->httpx<0.28.0,>=0.27.0->ibm-generative-ai) (0.14.0)\n",
      "Requirement already satisfied: annotated-types>=0.4.0 in /Users/flaviajaninebeo/Documents/Virtualenvs/wx-ai-intel-demo/lib/python3.11/site-packages (from pydantic<3.0.0,>=2.0.0->ibm-generative-ai) (0.7.0)\n",
      "Requirement already satisfied: pydantic-core==2.20.1 in /Users/flaviajaninebeo/Documents/Virtualenvs/wx-ai-intel-demo/lib/python3.11/site-packages (from pydantic<3.0.0,>=2.0.0->ibm-generative-ai) (2.20.1)\n",
      "Requirement already satisfied: typing-extensions>=4.6.1 in /Users/flaviajaninebeo/Documents/Virtualenvs/wx-ai-intel-demo/lib/python3.11/site-packages (from pydantic<3.0.0,>=2.0.0->ibm-generative-ai) (4.12.2)\n",
      "\n",
      "\u001b[1m[\u001b[0m\u001b[34;49mnotice\u001b[0m\u001b[1;39;49m]\u001b[0m\u001b[39;49m A new release of pip is available: \u001b[0m\u001b[31;49m24.1.2\u001b[0m\u001b[39;49m -> \u001b[0m\u001b[32;49m24.2\u001b[0m\n",
      "\u001b[1m[\u001b[0m\u001b[34;49mnotice\u001b[0m\u001b[1;39;49m]\u001b[0m\u001b[39;49m To update, run: \u001b[0m\u001b[32;49mpip install --upgrade pip\u001b[0m\n",
      "Requirement already satisfied: unstructured in /Users/flaviajaninebeo/Documents/Virtualenvs/wx-ai-intel-demo/lib/python3.11/site-packages (0.15.3)\n",
      "Requirement already satisfied: chardet in /Users/flaviajaninebeo/Documents/Virtualenvs/wx-ai-intel-demo/lib/python3.11/site-packages (from unstructured) (5.2.0)\n",
      "Requirement already satisfied: filetype in /Users/flaviajaninebeo/Documents/Virtualenvs/wx-ai-intel-demo/lib/python3.11/site-packages (from unstructured) (1.2.0)\n",
      "Requirement already satisfied: python-magic in /Users/flaviajaninebeo/Documents/Virtualenvs/wx-ai-intel-demo/lib/python3.11/site-packages (from unstructured) (0.4.27)\n",
      "Requirement already satisfied: lxml in /Users/flaviajaninebeo/Documents/Virtualenvs/wx-ai-intel-demo/lib/python3.11/site-packages (from unstructured) (5.3.0)\n",
      "Requirement already satisfied: nltk in /Users/flaviajaninebeo/Documents/Virtualenvs/wx-ai-intel-demo/lib/python3.11/site-packages (from unstructured) (3.8.1)\n",
      "Requirement already satisfied: tabulate in /Users/flaviajaninebeo/Documents/Virtualenvs/wx-ai-intel-demo/lib/python3.11/site-packages (from unstructured) (0.9.0)\n",
      "Requirement already satisfied: requests in /Users/flaviajaninebeo/Documents/Virtualenvs/wx-ai-intel-demo/lib/python3.11/site-packages (from unstructured) (2.32.2)\n",
      "Requirement already satisfied: beautifulsoup4 in /Users/flaviajaninebeo/Documents/Virtualenvs/wx-ai-intel-demo/lib/python3.11/site-packages (from unstructured) (4.12.3)\n",
      "Requirement already satisfied: emoji in /Users/flaviajaninebeo/Documents/Virtualenvs/wx-ai-intel-demo/lib/python3.11/site-packages (from unstructured) (2.12.1)\n",
      "Requirement already satisfied: dataclasses-json in /Users/flaviajaninebeo/Documents/Virtualenvs/wx-ai-intel-demo/lib/python3.11/site-packages (from unstructured) (0.6.7)\n",
      "Requirement already satisfied: python-iso639 in /Users/flaviajaninebeo/Documents/Virtualenvs/wx-ai-intel-demo/lib/python3.11/site-packages (from unstructured) (2024.4.27)\n",
      "Requirement already satisfied: langdetect in /Users/flaviajaninebeo/Documents/Virtualenvs/wx-ai-intel-demo/lib/python3.11/site-packages (from unstructured) (1.0.9)\n",
      "Requirement already satisfied: numpy<2 in /Users/flaviajaninebeo/Documents/Virtualenvs/wx-ai-intel-demo/lib/python3.11/site-packages (from unstructured) (1.26.4)\n",
      "Requirement already satisfied: rapidfuzz in /Users/flaviajaninebeo/Documents/Virtualenvs/wx-ai-intel-demo/lib/python3.11/site-packages (from unstructured) (3.9.6)\n",
      "Requirement already satisfied: backoff in /Users/flaviajaninebeo/Documents/Virtualenvs/wx-ai-intel-demo/lib/python3.11/site-packages (from unstructured) (2.2.1)\n",
      "Requirement already satisfied: typing-extensions in /Users/flaviajaninebeo/Documents/Virtualenvs/wx-ai-intel-demo/lib/python3.11/site-packages (from unstructured) (4.12.2)\n",
      "Requirement already satisfied: unstructured-client in /Users/flaviajaninebeo/Documents/Virtualenvs/wx-ai-intel-demo/lib/python3.11/site-packages (from unstructured) (0.25.5)\n",
      "Requirement already satisfied: wrapt in /Users/flaviajaninebeo/Documents/Virtualenvs/wx-ai-intel-demo/lib/python3.11/site-packages (from unstructured) (1.16.0)\n",
      "Requirement already satisfied: tqdm in /Users/flaviajaninebeo/Documents/Virtualenvs/wx-ai-intel-demo/lib/python3.11/site-packages (from unstructured) (4.66.5)\n",
      "Requirement already satisfied: psutil in /Users/flaviajaninebeo/Documents/Virtualenvs/wx-ai-intel-demo/lib/python3.11/site-packages (from unstructured) (6.0.0)\n",
      "Requirement already satisfied: soupsieve>1.2 in /Users/flaviajaninebeo/Documents/Virtualenvs/wx-ai-intel-demo/lib/python3.11/site-packages (from beautifulsoup4->unstructured) (2.6)\n",
      "Requirement already satisfied: marshmallow<4.0.0,>=3.18.0 in /Users/flaviajaninebeo/Documents/Virtualenvs/wx-ai-intel-demo/lib/python3.11/site-packages (from dataclasses-json->unstructured) (3.21.3)\n",
      "Requirement already satisfied: typing-inspect<1,>=0.4.0 in /Users/flaviajaninebeo/Documents/Virtualenvs/wx-ai-intel-demo/lib/python3.11/site-packages (from dataclasses-json->unstructured) (0.9.0)\n",
      "Requirement already satisfied: six in /Users/flaviajaninebeo/Documents/Virtualenvs/wx-ai-intel-demo/lib/python3.11/site-packages (from langdetect->unstructured) (1.16.0)\n",
      "Requirement already satisfied: click in /Users/flaviajaninebeo/Documents/Virtualenvs/wx-ai-intel-demo/lib/python3.11/site-packages (from nltk->unstructured) (8.1.7)\n",
      "Requirement already satisfied: joblib in /Users/flaviajaninebeo/Documents/Virtualenvs/wx-ai-intel-demo/lib/python3.11/site-packages (from nltk->unstructured) (1.4.2)\n",
      "Requirement already satisfied: regex>=2021.8.3 in /Users/flaviajaninebeo/Documents/Virtualenvs/wx-ai-intel-demo/lib/python3.11/site-packages (from nltk->unstructured) (2024.7.24)\n",
      "Requirement already satisfied: charset-normalizer<4,>=2 in /Users/flaviajaninebeo/Documents/Virtualenvs/wx-ai-intel-demo/lib/python3.11/site-packages (from requests->unstructured) (3.3.2)\n",
      "Requirement already satisfied: idna<4,>=2.5 in /Users/flaviajaninebeo/Documents/Virtualenvs/wx-ai-intel-demo/lib/python3.11/site-packages (from requests->unstructured) (3.7)\n",
      "Requirement already satisfied: urllib3<3,>=1.21.1 in /Users/flaviajaninebeo/Documents/Virtualenvs/wx-ai-intel-demo/lib/python3.11/site-packages (from requests->unstructured) (2.2.2)\n",
      "Requirement already satisfied: certifi>=2017.4.17 in /Users/flaviajaninebeo/Documents/Virtualenvs/wx-ai-intel-demo/lib/python3.11/site-packages (from requests->unstructured) (2024.7.4)\n",
      "Requirement already satisfied: deepdiff>=6.0 in /Users/flaviajaninebeo/Documents/Virtualenvs/wx-ai-intel-demo/lib/python3.11/site-packages (from unstructured-client->unstructured) (7.0.1)\n",
      "Requirement already satisfied: httpx>=0.27.0 in /Users/flaviajaninebeo/Documents/Virtualenvs/wx-ai-intel-demo/lib/python3.11/site-packages (from unstructured-client->unstructured) (0.27.0)\n",
      "Requirement already satisfied: jsonpath-python>=1.0.6 in /Users/flaviajaninebeo/Documents/Virtualenvs/wx-ai-intel-demo/lib/python3.11/site-packages (from unstructured-client->unstructured) (1.0.6)\n",
      "Requirement already satisfied: mypy-extensions>=1.0.0 in /Users/flaviajaninebeo/Documents/Virtualenvs/wx-ai-intel-demo/lib/python3.11/site-packages (from unstructured-client->unstructured) (1.0.0)\n",
      "Requirement already satisfied: nest-asyncio>=1.6.0 in /Users/flaviajaninebeo/Documents/Virtualenvs/wx-ai-intel-demo/lib/python3.11/site-packages (from unstructured-client->unstructured) (1.6.0)\n",
      "Requirement already satisfied: packaging>=23.1 in /Users/flaviajaninebeo/Documents/Virtualenvs/wx-ai-intel-demo/lib/python3.11/site-packages (from unstructured-client->unstructured) (24.1)\n",
      "Requirement already satisfied: pypdf>=4.0 in /Users/flaviajaninebeo/Documents/Virtualenvs/wx-ai-intel-demo/lib/python3.11/site-packages (from unstructured-client->unstructured) (4.3.1)\n",
      "Requirement already satisfied: python-dateutil>=2.8.2 in /Users/flaviajaninebeo/Documents/Virtualenvs/wx-ai-intel-demo/lib/python3.11/site-packages (from unstructured-client->unstructured) (2.9.0.post0)\n",
      "Requirement already satisfied: requests-toolbelt>=1.0.0 in /Users/flaviajaninebeo/Documents/Virtualenvs/wx-ai-intel-demo/lib/python3.11/site-packages (from unstructured-client->unstructured) (1.0.0)\n",
      "Requirement already satisfied: ordered-set<4.2.0,>=4.1.0 in /Users/flaviajaninebeo/Documents/Virtualenvs/wx-ai-intel-demo/lib/python3.11/site-packages (from deepdiff>=6.0->unstructured-client->unstructured) (4.1.0)\n",
      "Requirement already satisfied: anyio in /Users/flaviajaninebeo/Documents/Virtualenvs/wx-ai-intel-demo/lib/python3.11/site-packages (from httpx>=0.27.0->unstructured-client->unstructured) (4.4.0)\n",
      "Requirement already satisfied: httpcore==1.* in /Users/flaviajaninebeo/Documents/Virtualenvs/wx-ai-intel-demo/lib/python3.11/site-packages (from httpx>=0.27.0->unstructured-client->unstructured) (1.0.5)\n",
      "Requirement already satisfied: sniffio in /Users/flaviajaninebeo/Documents/Virtualenvs/wx-ai-intel-demo/lib/python3.11/site-packages (from httpx>=0.27.0->unstructured-client->unstructured) (1.3.1)\n",
      "Requirement already satisfied: h11<0.15,>=0.13 in /Users/flaviajaninebeo/Documents/Virtualenvs/wx-ai-intel-demo/lib/python3.11/site-packages (from httpcore==1.*->httpx>=0.27.0->unstructured-client->unstructured) (0.14.0)\n",
      "\n",
      "\u001b[1m[\u001b[0m\u001b[34;49mnotice\u001b[0m\u001b[1;39;49m]\u001b[0m\u001b[39;49m A new release of pip is available: \u001b[0m\u001b[31;49m24.1.2\u001b[0m\u001b[39;49m -> \u001b[0m\u001b[32;49m24.2\u001b[0m\n",
      "\u001b[1m[\u001b[0m\u001b[34;49mnotice\u001b[0m\u001b[1;39;49m]\u001b[0m\u001b[39;49m To update, run: \u001b[0m\u001b[32;49mpip install --upgrade pip\u001b[0m\n",
      "Requirement already satisfied: huggingface-hub in /Users/flaviajaninebeo/Documents/Virtualenvs/wx-ai-intel-demo/lib/python3.11/site-packages (0.24.5)\n",
      "Requirement already satisfied: filelock in /Users/flaviajaninebeo/Documents/Virtualenvs/wx-ai-intel-demo/lib/python3.11/site-packages (from huggingface-hub) (3.15.4)\n",
      "Requirement already satisfied: fsspec>=2023.5.0 in /Users/flaviajaninebeo/Documents/Virtualenvs/wx-ai-intel-demo/lib/python3.11/site-packages (from huggingface-hub) (2024.6.1)\n",
      "Requirement already satisfied: packaging>=20.9 in /Users/flaviajaninebeo/Documents/Virtualenvs/wx-ai-intel-demo/lib/python3.11/site-packages (from huggingface-hub) (24.1)\n",
      "Requirement already satisfied: pyyaml>=5.1 in /Users/flaviajaninebeo/Documents/Virtualenvs/wx-ai-intel-demo/lib/python3.11/site-packages (from huggingface-hub) (6.0.2)\n",
      "Requirement already satisfied: requests in /Users/flaviajaninebeo/Documents/Virtualenvs/wx-ai-intel-demo/lib/python3.11/site-packages (from huggingface-hub) (2.32.2)\n",
      "Requirement already satisfied: tqdm>=4.42.1 in /Users/flaviajaninebeo/Documents/Virtualenvs/wx-ai-intel-demo/lib/python3.11/site-packages (from huggingface-hub) (4.66.5)\n",
      "Requirement already satisfied: typing-extensions>=3.7.4.3 in /Users/flaviajaninebeo/Documents/Virtualenvs/wx-ai-intel-demo/lib/python3.11/site-packages (from huggingface-hub) (4.12.2)\n",
      "Requirement already satisfied: charset-normalizer<4,>=2 in /Users/flaviajaninebeo/Documents/Virtualenvs/wx-ai-intel-demo/lib/python3.11/site-packages (from requests->huggingface-hub) (3.3.2)\n",
      "Requirement already satisfied: idna<4,>=2.5 in /Users/flaviajaninebeo/Documents/Virtualenvs/wx-ai-intel-demo/lib/python3.11/site-packages (from requests->huggingface-hub) (3.7)\n",
      "Requirement already satisfied: urllib3<3,>=1.21.1 in /Users/flaviajaninebeo/Documents/Virtualenvs/wx-ai-intel-demo/lib/python3.11/site-packages (from requests->huggingface-hub) (2.2.2)\n",
      "Requirement already satisfied: certifi>=2017.4.17 in /Users/flaviajaninebeo/Documents/Virtualenvs/wx-ai-intel-demo/lib/python3.11/site-packages (from requests->huggingface-hub) (2024.7.4)\n",
      "\n",
      "\u001b[1m[\u001b[0m\u001b[34;49mnotice\u001b[0m\u001b[1;39;49m]\u001b[0m\u001b[39;49m A new release of pip is available: \u001b[0m\u001b[31;49m24.1.2\u001b[0m\u001b[39;49m -> \u001b[0m\u001b[32;49m24.2\u001b[0m\n",
      "\u001b[1m[\u001b[0m\u001b[34;49mnotice\u001b[0m\u001b[1;39;49m]\u001b[0m\u001b[39;49m To update, run: \u001b[0m\u001b[32;49mpip install --upgrade pip\u001b[0m\n",
      "Requirement already satisfied: sentence-transformers in /Users/flaviajaninebeo/Documents/Virtualenvs/wx-ai-intel-demo/lib/python3.11/site-packages (3.0.1)\n",
      "Requirement already satisfied: transformers<5.0.0,>=4.34.0 in /Users/flaviajaninebeo/Documents/Virtualenvs/wx-ai-intel-demo/lib/python3.11/site-packages (from sentence-transformers) (4.44.0)\n",
      "Requirement already satisfied: tqdm in /Users/flaviajaninebeo/Documents/Virtualenvs/wx-ai-intel-demo/lib/python3.11/site-packages (from sentence-transformers) (4.66.5)\n",
      "Requirement already satisfied: torch>=1.11.0 in /Users/flaviajaninebeo/Documents/Virtualenvs/wx-ai-intel-demo/lib/python3.11/site-packages (from sentence-transformers) (2.4.0)\n",
      "Requirement already satisfied: numpy in /Users/flaviajaninebeo/Documents/Virtualenvs/wx-ai-intel-demo/lib/python3.11/site-packages (from sentence-transformers) (1.26.4)\n",
      "Requirement already satisfied: scikit-learn in /Users/flaviajaninebeo/Documents/Virtualenvs/wx-ai-intel-demo/lib/python3.11/site-packages (from sentence-transformers) (1.5.1)\n",
      "Requirement already satisfied: scipy in /Users/flaviajaninebeo/Documents/Virtualenvs/wx-ai-intel-demo/lib/python3.11/site-packages (from sentence-transformers) (1.14.0)\n",
      "Requirement already satisfied: huggingface-hub>=0.15.1 in /Users/flaviajaninebeo/Documents/Virtualenvs/wx-ai-intel-demo/lib/python3.11/site-packages (from sentence-transformers) (0.24.5)\n",
      "Requirement already satisfied: Pillow in /Users/flaviajaninebeo/Documents/Virtualenvs/wx-ai-intel-demo/lib/python3.11/site-packages (from sentence-transformers) (10.4.0)\n",
      "Requirement already satisfied: filelock in /Users/flaviajaninebeo/Documents/Virtualenvs/wx-ai-intel-demo/lib/python3.11/site-packages (from huggingface-hub>=0.15.1->sentence-transformers) (3.15.4)\n",
      "Requirement already satisfied: fsspec>=2023.5.0 in /Users/flaviajaninebeo/Documents/Virtualenvs/wx-ai-intel-demo/lib/python3.11/site-packages (from huggingface-hub>=0.15.1->sentence-transformers) (2024.6.1)\n",
      "Requirement already satisfied: packaging>=20.9 in /Users/flaviajaninebeo/Documents/Virtualenvs/wx-ai-intel-demo/lib/python3.11/site-packages (from huggingface-hub>=0.15.1->sentence-transformers) (24.1)\n",
      "Requirement already satisfied: pyyaml>=5.1 in /Users/flaviajaninebeo/Documents/Virtualenvs/wx-ai-intel-demo/lib/python3.11/site-packages (from huggingface-hub>=0.15.1->sentence-transformers) (6.0.2)\n",
      "Requirement already satisfied: requests in /Users/flaviajaninebeo/Documents/Virtualenvs/wx-ai-intel-demo/lib/python3.11/site-packages (from huggingface-hub>=0.15.1->sentence-transformers) (2.32.2)\n",
      "Requirement already satisfied: typing-extensions>=3.7.4.3 in /Users/flaviajaninebeo/Documents/Virtualenvs/wx-ai-intel-demo/lib/python3.11/site-packages (from huggingface-hub>=0.15.1->sentence-transformers) (4.12.2)\n",
      "Requirement already satisfied: sympy in /Users/flaviajaninebeo/Documents/Virtualenvs/wx-ai-intel-demo/lib/python3.11/site-packages (from torch>=1.11.0->sentence-transformers) (1.13.2)\n",
      "Requirement already satisfied: networkx in /Users/flaviajaninebeo/Documents/Virtualenvs/wx-ai-intel-demo/lib/python3.11/site-packages (from torch>=1.11.0->sentence-transformers) (3.3)\n",
      "Requirement already satisfied: jinja2 in /Users/flaviajaninebeo/Documents/Virtualenvs/wx-ai-intel-demo/lib/python3.11/site-packages (from torch>=1.11.0->sentence-transformers) (3.1.4)\n",
      "Requirement already satisfied: regex!=2019.12.17 in /Users/flaviajaninebeo/Documents/Virtualenvs/wx-ai-intel-demo/lib/python3.11/site-packages (from transformers<5.0.0,>=4.34.0->sentence-transformers) (2024.7.24)\n",
      "Requirement already satisfied: safetensors>=0.4.1 in /Users/flaviajaninebeo/Documents/Virtualenvs/wx-ai-intel-demo/lib/python3.11/site-packages (from transformers<5.0.0,>=4.34.0->sentence-transformers) (0.4.4)\n",
      "Requirement already satisfied: tokenizers<0.20,>=0.19 in /Users/flaviajaninebeo/Documents/Virtualenvs/wx-ai-intel-demo/lib/python3.11/site-packages (from transformers<5.0.0,>=4.34.0->sentence-transformers) (0.19.1)\n",
      "Requirement already satisfied: joblib>=1.2.0 in /Users/flaviajaninebeo/Documents/Virtualenvs/wx-ai-intel-demo/lib/python3.11/site-packages (from scikit-learn->sentence-transformers) (1.4.2)\n",
      "Requirement already satisfied: threadpoolctl>=3.1.0 in /Users/flaviajaninebeo/Documents/Virtualenvs/wx-ai-intel-demo/lib/python3.11/site-packages (from scikit-learn->sentence-transformers) (3.5.0)\n",
      "Requirement already satisfied: MarkupSafe>=2.0 in /Users/flaviajaninebeo/Documents/Virtualenvs/wx-ai-intel-demo/lib/python3.11/site-packages (from jinja2->torch>=1.11.0->sentence-transformers) (2.1.5)\n",
      "Requirement already satisfied: charset-normalizer<4,>=2 in /Users/flaviajaninebeo/Documents/Virtualenvs/wx-ai-intel-demo/lib/python3.11/site-packages (from requests->huggingface-hub>=0.15.1->sentence-transformers) (3.3.2)\n",
      "Requirement already satisfied: idna<4,>=2.5 in /Users/flaviajaninebeo/Documents/Virtualenvs/wx-ai-intel-demo/lib/python3.11/site-packages (from requests->huggingface-hub>=0.15.1->sentence-transformers) (3.7)\n",
      "Requirement already satisfied: urllib3<3,>=1.21.1 in /Users/flaviajaninebeo/Documents/Virtualenvs/wx-ai-intel-demo/lib/python3.11/site-packages (from requests->huggingface-hub>=0.15.1->sentence-transformers) (2.2.2)\n",
      "Requirement already satisfied: certifi>=2017.4.17 in /Users/flaviajaninebeo/Documents/Virtualenvs/wx-ai-intel-demo/lib/python3.11/site-packages (from requests->huggingface-hub>=0.15.1->sentence-transformers) (2024.7.4)\n",
      "Requirement already satisfied: mpmath<1.4,>=1.1.0 in /Users/flaviajaninebeo/Documents/Virtualenvs/wx-ai-intel-demo/lib/python3.11/site-packages (from sympy->torch>=1.11.0->sentence-transformers) (1.3.0)\n",
      "\n",
      "\u001b[1m[\u001b[0m\u001b[34;49mnotice\u001b[0m\u001b[1;39;49m]\u001b[0m\u001b[39;49m A new release of pip is available: \u001b[0m\u001b[31;49m24.1.2\u001b[0m\u001b[39;49m -> \u001b[0m\u001b[32;49m24.2\u001b[0m\n",
      "\u001b[1m[\u001b[0m\u001b[34;49mnotice\u001b[0m\u001b[1;39;49m]\u001b[0m\u001b[39;49m To update, run: \u001b[0m\u001b[32;49mpip install --upgrade pip\u001b[0m\n",
      "Requirement already satisfied: ibm_watsonx_ai in /Users/flaviajaninebeo/Documents/Virtualenvs/wx-ai-intel-demo/lib/python3.11/site-packages (1.1.6)\n",
      "Requirement already satisfied: requests in /Users/flaviajaninebeo/Documents/Virtualenvs/wx-ai-intel-demo/lib/python3.11/site-packages (from ibm_watsonx_ai) (2.32.2)\n",
      "Requirement already satisfied: httpx in /Users/flaviajaninebeo/Documents/Virtualenvs/wx-ai-intel-demo/lib/python3.11/site-packages (from ibm_watsonx_ai) (0.27.0)\n",
      "Requirement already satisfied: urllib3 in /Users/flaviajaninebeo/Documents/Virtualenvs/wx-ai-intel-demo/lib/python3.11/site-packages (from ibm_watsonx_ai) (2.2.2)\n",
      "Requirement already satisfied: pandas<2.2.0,>=0.24.2 in /Users/flaviajaninebeo/Documents/Virtualenvs/wx-ai-intel-demo/lib/python3.11/site-packages (from ibm_watsonx_ai) (2.1.4)\n",
      "Requirement already satisfied: certifi in /Users/flaviajaninebeo/Documents/Virtualenvs/wx-ai-intel-demo/lib/python3.11/site-packages (from ibm_watsonx_ai) (2024.7.4)\n",
      "Requirement already satisfied: lomond in /Users/flaviajaninebeo/Documents/Virtualenvs/wx-ai-intel-demo/lib/python3.11/site-packages (from ibm_watsonx_ai) (0.3.3)\n",
      "Requirement already satisfied: tabulate in /Users/flaviajaninebeo/Documents/Virtualenvs/wx-ai-intel-demo/lib/python3.11/site-packages (from ibm_watsonx_ai) (0.9.0)\n",
      "Requirement already satisfied: packaging in /Users/flaviajaninebeo/Documents/Virtualenvs/wx-ai-intel-demo/lib/python3.11/site-packages (from ibm_watsonx_ai) (24.1)\n",
      "Requirement already satisfied: ibm-cos-sdk<2.14.0,>=2.12.0 in /Users/flaviajaninebeo/Documents/Virtualenvs/wx-ai-intel-demo/lib/python3.11/site-packages (from ibm_watsonx_ai) (2.13.6)\n",
      "Requirement already satisfied: importlib-metadata in /Users/flaviajaninebeo/Documents/Virtualenvs/wx-ai-intel-demo/lib/python3.11/site-packages (from ibm_watsonx_ai) (8.2.0)\n",
      "Requirement already satisfied: ibm-cos-sdk-core==2.13.6 in /Users/flaviajaninebeo/Documents/Virtualenvs/wx-ai-intel-demo/lib/python3.11/site-packages (from ibm-cos-sdk<2.14.0,>=2.12.0->ibm_watsonx_ai) (2.13.6)\n",
      "Requirement already satisfied: ibm-cos-sdk-s3transfer==2.13.6 in /Users/flaviajaninebeo/Documents/Virtualenvs/wx-ai-intel-demo/lib/python3.11/site-packages (from ibm-cos-sdk<2.14.0,>=2.12.0->ibm_watsonx_ai) (2.13.6)\n",
      "Requirement already satisfied: jmespath<=1.0.1,>=0.10.0 in /Users/flaviajaninebeo/Documents/Virtualenvs/wx-ai-intel-demo/lib/python3.11/site-packages (from ibm-cos-sdk<2.14.0,>=2.12.0->ibm_watsonx_ai) (1.0.1)\n",
      "Requirement already satisfied: python-dateutil<3.0.0,>=2.9.0 in /Users/flaviajaninebeo/Documents/Virtualenvs/wx-ai-intel-demo/lib/python3.11/site-packages (from ibm-cos-sdk-core==2.13.6->ibm-cos-sdk<2.14.0,>=2.12.0->ibm_watsonx_ai) (2.9.0.post0)\n",
      "Requirement already satisfied: numpy<2,>=1.23.2 in /Users/flaviajaninebeo/Documents/Virtualenvs/wx-ai-intel-demo/lib/python3.11/site-packages (from pandas<2.2.0,>=0.24.2->ibm_watsonx_ai) (1.26.4)\n",
      "Requirement already satisfied: pytz>=2020.1 in /Users/flaviajaninebeo/Documents/Virtualenvs/wx-ai-intel-demo/lib/python3.11/site-packages (from pandas<2.2.0,>=0.24.2->ibm_watsonx_ai) (2024.1)\n",
      "Requirement already satisfied: tzdata>=2022.1 in /Users/flaviajaninebeo/Documents/Virtualenvs/wx-ai-intel-demo/lib/python3.11/site-packages (from pandas<2.2.0,>=0.24.2->ibm_watsonx_ai) (2024.1)\n",
      "Requirement already satisfied: charset-normalizer<4,>=2 in /Users/flaviajaninebeo/Documents/Virtualenvs/wx-ai-intel-demo/lib/python3.11/site-packages (from requests->ibm_watsonx_ai) (3.3.2)\n",
      "Requirement already satisfied: idna<4,>=2.5 in /Users/flaviajaninebeo/Documents/Virtualenvs/wx-ai-intel-demo/lib/python3.11/site-packages (from requests->ibm_watsonx_ai) (3.7)\n",
      "Requirement already satisfied: anyio in /Users/flaviajaninebeo/Documents/Virtualenvs/wx-ai-intel-demo/lib/python3.11/site-packages (from httpx->ibm_watsonx_ai) (4.4.0)\n",
      "Requirement already satisfied: httpcore==1.* in /Users/flaviajaninebeo/Documents/Virtualenvs/wx-ai-intel-demo/lib/python3.11/site-packages (from httpx->ibm_watsonx_ai) (1.0.5)\n",
      "Requirement already satisfied: sniffio in /Users/flaviajaninebeo/Documents/Virtualenvs/wx-ai-intel-demo/lib/python3.11/site-packages (from httpx->ibm_watsonx_ai) (1.3.1)\n",
      "Requirement already satisfied: h11<0.15,>=0.13 in /Users/flaviajaninebeo/Documents/Virtualenvs/wx-ai-intel-demo/lib/python3.11/site-packages (from httpcore==1.*->httpx->ibm_watsonx_ai) (0.14.0)\n",
      "Requirement already satisfied: zipp>=0.5 in /Users/flaviajaninebeo/Documents/Virtualenvs/wx-ai-intel-demo/lib/python3.11/site-packages (from importlib-metadata->ibm_watsonx_ai) (3.20.0)\n",
      "Requirement already satisfied: six>=1.10.0 in /Users/flaviajaninebeo/Documents/Virtualenvs/wx-ai-intel-demo/lib/python3.11/site-packages (from lomond->ibm_watsonx_ai) (1.16.0)\n",
      "\n",
      "\u001b[1m[\u001b[0m\u001b[34;49mnotice\u001b[0m\u001b[1;39;49m]\u001b[0m\u001b[39;49m A new release of pip is available: \u001b[0m\u001b[31;49m24.1.2\u001b[0m\u001b[39;49m -> \u001b[0m\u001b[32;49m24.2\u001b[0m\n",
      "\u001b[1m[\u001b[0m\u001b[34;49mnotice\u001b[0m\u001b[1;39;49m]\u001b[0m\u001b[39;49m To update, run: \u001b[0m\u001b[32;49mpip install --upgrade pip\u001b[0m\n"
     ]
    }
   ],
   "source": [
    "# ! conda create -y -n milvus python=3.10\n",
    "\n",
    "! pip install pymilvus==2.4.0\n",
    "! pip install langchain\n",
    "! pip install ibm-generative-ai\n",
    "! pip install unstructured\n",
    "! pip install huggingface-hub\n",
    "! pip install sentence-transformers\n",
    "! pip install ibm_watsonx_ai"
   ]
  },
  {
   "cell_type": "code",
   "execution_count": 89,
   "metadata": {},
   "outputs": [
    {
     "data": {
      "text/plain": [
       "False"
      ]
     },
     "execution_count": 89,
     "metadata": {},
     "output_type": "execute_result"
    }
   ],
   "source": [
    "import os\n",
    "import requests\n",
    "import json\n",
    "\n",
    "from dotenv import load_dotenv\n",
    "\n",
    "from langchain_community.document_loaders import UnstructuredURLLoader\n",
    "\n",
    "from langchain.text_splitter import CharacterTextSplitter\n",
    "from langchain_community.vectorstores import Milvus\n",
    "\n",
    "from langchain.prompts import PromptTemplate\n",
    "from langchain.callbacks.base import BaseCallbackHandler\n",
    "\n",
    "# BAM\n",
    "from genai.extensions.langchain import LangChainInterface\n",
    "from genai.credentials import Credentials\n",
    "from genai import Client\n",
    "\n",
    "from genai.schema import TextGenerationParameters\n",
    "\n",
    "from ibm_watsonx_ai.foundation_models import Embeddings\n",
    "\n",
    "load_dotenv() "
   ]
  },
  {
   "cell_type": "code",
   "execution_count": 96,
   "metadata": {},
   "outputs": [],
   "source": [
    "token = \"\"\n",
    "project_id = \"\""
   ]
  },
  {
   "cell_type": "code",
   "execution_count": 91,
   "metadata": {},
   "outputs": [
    {
     "data": {
      "text/plain": [
       "['gogo']"
      ]
     },
     "execution_count": 91,
     "metadata": {},
     "output_type": "execute_result"
    }
   ],
   "source": [
    "text_splitter = CharacterTextSplitter(chunk_size=2000, chunk_overlap=0)\n",
    "text_splitter.split_text(\"gogo\")"
   ]
  },
  {
   "cell_type": "code",
   "execution_count": 93,
   "metadata": {},
   "outputs": [
    {
     "data": {
      "text/plain": [
       "<ibm_watsonx_ai.foundation_models.embeddings.embeddings.Embeddings at 0x17bd529d0>"
      ]
     },
     "execution_count": 93,
     "metadata": {},
     "output_type": "execute_result"
    }
   ],
   "source": [
    "embedding_model = Embeddings(\n",
    "            model_id=\"ibm/slate-125m-english-rtrvr\",\n",
    "            credentials={\"api_key\": token, \"url\": \"https://us-south.ml.cloud.ibm.com\"},\n",
    "            project_id=project_id,\n",
    "            params={\n",
    "                \"truncate_input_tokens\": 512\n",
    "            }\n",
    "        )\n",
    "embedding_model"
   ]
  },
  {
   "cell_type": "code",
   "execution_count": 94,
   "metadata": {},
   "outputs": [],
   "source": [
    "# INITIALIZE A MILVUS COLLECTION WITH EMBEDDINGS FROM A SET OF DOCUMENTS\n",
    "\n",
    "urls = [\n",
    "    \"https://en.wikipedia.org/wiki/Elon_Musk\",\n",
    "]\n",
    "\n",
    "loader = UnstructuredURLLoader(urls=urls)\n",
    "data = loader.load()"
   ]
  },
  {
   "cell_type": "code",
   "execution_count": 95,
   "metadata": {},
   "outputs": [
    {
     "name": "stderr",
     "output_type": "stream",
     "text": [
      "Created a chunk of size 2116, which is longer than the specified 2000\n",
      "Created a chunk of size 10275, which is longer than the specified 2000\n"
     ]
    }
   ],
   "source": [
    "\n",
    "text_splitter = CharacterTextSplitter(chunk_size=2000, chunk_overlap=0)\n",
    "docs = text_splitter.split_documents(data)\n",
    "\n",
    "vector_db = Milvus.from_documents(\n",
    "    docs,\n",
    "    embedding_model,\n",
    "    drop_old=True,  # Drop the old Milvus collection if it exists\n",
    "    connection_args={\"host\":\"823135eb-c10e-4ae5-9d93-62b881faa87b.cpltrlid0d8r2cjtm4e0.lakehouse.appdomain.cloud\", \n",
    "                     \"port\":\"31660\", \"secure\":True,\n",
    "                     \"user\":\"ibmlhapikey\", \"password\": token},\n",
    ")"
   ]
  },
  {
   "cell_type": "code",
   "execution_count": 12,
   "metadata": {},
   "outputs": [
    {
     "data": {
      "text/plain": [
       "[Document(metadata={'source': 'https://en.wikipedia.org/wiki/Elon_Musk', 'pk': 451797497425623530}, page_content='Elon Musk FRS Musk in 2023 Born Elon Reeve Musk ( 1971-06-28 ) June 28, 1971 (age\\xa053) Pretoria , Transvaal , South Africa Citizenship South Africa Canada United States (from 2002) Education University of Pennsylvania ( BA , BS ) Title Founder, CEO, and chief engineer of SpaceX CEO and product architect of Tesla, Inc. Owner, CTO and Executive Chairman of X (formerly Twitter) President of the Musk Foundation Founder of The Boring Company , X Corp. , and xAI Co-founder of Neuralink , OpenAI , Zip2 , and X.com (part of PayPal ) Spouses Justine Wilson \\u200b \\u200b ( m. 2000; div. 2008) \\u200b Talulah Riley \\u200b \\u200b ( m. 2010; div. 2012) \\u200b \\u200b \\u200b ( m. 2013; div. 2016) \\u200b Partners Grimes (2018–2021) [ 1 ] Children 12 [ 2 ] Parents Errol Musk Maye Musk Relatives Kimbal Musk (brother) Tosca Musk (sister) Lyndon Rive (cousin) Awards Full list Signature\\n\\nThis article is part of a series about Elon Musk Awards and honors Views Filmography Legal affairs Companies Zip2 X.com PayPal SpaceX Starlink Tesla, Inc. Energy criticism litigation OpenAI Neuralink The Boring Company Thud X Corp. Twitter under Elon Musk Twitter, Inc. acquisition xAI In popular culture Elon Musk (Isaacson) Elon Musk (Vance) Ludicrous Power Play \" Members Only \" \" The Platonic Permutation \" \" The Musk Who Fell to Earth \" \" One Crew over the Crewcoo\\'s Morty \" Elon Musk\\'s Crash Course Related America PAC Boring Test Tunnel Hyperloop SolarCity Tesla Roadster in space TSLAQ Twitter Files 2022 Twitter suspensions Tesla and unions v t e\\n\\nElon Reeve Musk FRS (/ˈiːlɒn/; born June 28, 1971) is a businessman and investor known for his key roles in space company SpaceX and automotive company Tesla, Inc. Other involvements include ownership of X Corp., the company that operates the social media platform X (formerly known as Twitter), and his role in the founding of The Boring Company, xAI, Neuralink and OpenAI. He is one of the wealthiest people in the world; as of August 2024[update], Forbes estimates his net worth to be US$241 billion.[3]'),\n",
       " Document(metadata={'source': 'https://en.wikipedia.org/wiki/Elon_Musk', 'pk': 451797497425623555}, page_content='Musk\\'s flight usage is tracked on social media through ElonJet. After Musk said that his son X AE A-XII had been harassed by a stalker after the account posted the airport at which his jet had landed,[313][314][315] Musk banned the ElonJet account on Twitter, as well as the accounts of journalists that posted stories regarding the incident, including Donie O\\'Sullivan, Keith Olbermann, and journalists from The New York Times, The Washington Post, CNN, and The Intercept.[316] Musk equated the reporting to doxxing.[317] Police do not believe there is a link between the account and alleged stalker.[318] Musk later took a Twitter poll on whether the journalists\\' accounts should be reinstated, which resulted in reinstating the accounts.[319]\\n\\nCompany towns\\n\\nMain articles: Boca Chica Village, Texas and Snailbrook, Texas\\n\\nAfter 2020, thousands of acres of land just outside Austin, Texas, were acquired by Musk and his companies with a total value of $2.5 billion.[320][321] The project to build the company town named Snailbrook in Bastrop County, Texas began in 2021 according to reports by the Wall Street Journal.[322] Musk\\'s then-girlfriend Grimes and Kanye West were involved in the planning.[322] The name \"Snailbrook\" alludes to The Boring Company\\'s stated goal of building a machine that can bore tunnels faster than a snail can move.[322] In 2023 the town had a reported population of 12 people.[323] There are plans to establish a school and a university there.[320]\\n\\nWealth\\n\\nMain article: Wealth of Elon Musk\\n\\nMusk made $175.8 million when PayPal was sold to eBay in October 2002.[324] He was first listed on the Forbes Billionaires List in 2012, with a net worth of $2 billion.[325]\\n\\nPersonal views and Twitter usage\\n\\nFurther information: Views of Elon Musk'),\n",
       " Document(metadata={'source': 'https://en.wikipedia.org/wiki/Elon_Musk', 'pk': 451797497425623532}, page_content='In 2004, Musk was an early investor who provided most of the initial financing in electric vehicle manufacturer Tesla Motors, Inc. (later Tesla, Inc.), assuming the position of the company\\'s chairman. He later became the product architect, and in 2008 the CEO. In 2006, Musk helped create SolarCity, a solar energy company that was acquired by Tesla in 2016 and became Tesla Energy. In 2013, he proposed a hyperloop high-speed vactrain transportation system. In 2015, he co-founded OpenAI, a nonprofit artificial intelligence research company. The following year, Musk co-founded Neuralink—a neurotechnology company developing brain–computer interfaces—and The Boring Company, a tunnel construction company. In 2018, the U.S. Securities and Exchange Commission (SEC) sued Musk, alleging that he had falsely announced that he had secured funding for a private takeover of Tesla. To settle the case, Musk stepped down as the chairman of Tesla and paid a $20-million fine. In 2022, he acquired Twitter for $44 billion, merged the company into newly created X Corp. and rebranded the service as X the following year. In March 2023, Musk founded xAI, an artificial intelligence company.\\n\\nMusk has expressed views that have made him a polarizing figure.[4] He has been criticized for making unscientific and misleading statements, including COVID-19 misinformation, promoting right-wing conspiracy theories, and \"endorsing an antisemitic theory\",[5] the latter of which he later apologized for.[4][6] His ownership of Twitter has been similarly controversial, being marked by layoffs of large numbers of employees, an increase in hate speech, misinformation and disinformation posts on the website, and changes to Twitter Blue verification.\\n\\nEarly life and education\\n\\nChildhood and family\\n\\nSee also: Family of Elon Musk'),\n",
       " Document(metadata={'source': 'https://en.wikipedia.org/wiki/Elon_Musk', 'pk': 451797497425623531}, page_content=\"Musk was born in Pretoria to model Maye and businessman and engineer Errol Musk, and briefly attended the University of Pretoria before immigrating to Canada at age 18, acquiring citizenship through his Canadian-born mother. Two years later, he matriculated at Queen's University at Kingston in Canada. Musk later transferred to the University of Pennsylvania and received bachelor's degrees in economics and physics. He moved to California in 1995 to attend Stanford University, but dropped out after two days and, with his brother Kimbal, co-founded online city guide software company Zip2. The startup was acquired by Compaq for $307 million in 1999. That same year, Musk co-founded X.com, a direct bank. X.com merged with Confinity in 2000 to form PayPal. In October 2002, eBay acquired PayPal for $1.5 billion. Using $100 million of the money he made from the sale of PayPal, Musk founded SpaceX, a spaceflight services company, in 2002.\")]"
      ]
     },
     "execution_count": 12,
     "metadata": {},
     "output_type": "execute_result"
    }
   ],
   "source": [
    "# TEST COLLECTION INITIALISATION WITH A SIMPLE SIMILARITY SEARCH\n",
    "\n",
    "query = \"What is the net worth of Elon Musk today?\"\n",
    "docs = vector_db.similarity_search(query)\n",
    "\n",
    "docs"
   ]
  },
  {
   "cell_type": "code",
   "execution_count": 83,
   "metadata": {},
   "outputs": [],
   "source": [
    "# SET LANGCHAIN INTERFACE FOR GEN AI\n",
    "\n",
    "creds = Credentials(token,\n",
    "                    api_endpoint=\"https://us-south.ml.cloud.ibm.com\") # credentials object to access the LLM service\n",
    "\n",
    "\n",
    "params = TextGenerationParameters(decoding_method=\"sample\",temperature=0.7, top_p=1, top_k=50, min_new_tokens=0, max_new_tokens=200\n",
    "                        )\n",
    "\n",
    "model = LangChainInterface(model_id= 'ibm/granite-13b-chat-v2', parameters=params, client=Client(credentials=creds))\n",
    "\n",
    "prompt_template = (\n",
    "            \"\"\"[INST]\n",
    "            <<SYS>>\n",
    "                here are your instructions:\n",
    "            1. You will be given a context that should be used to reply to user questions. The context will begin with \\\"BEGIN\\\" and will end with \\\"END\\\".\n",
    "            2. You should generate the next response using informations available in the context.\n",
    "            3. If you can't find an answer, say \\\"I don't know\\\".\n",
    "            4. Do not use any other knowledge.\n",
    "            5. Specify the sentences in context that justify your answer.\n",
    "                BEGIN {context} END\n",
    "            <</SYS>>\n",
    "            <<HUMAN>>\n",
    "              {question}\n",
    "            <</HUMAN>>\n",
    "            [/INST]\n",
    "            \"\"\"\n",
    "        )\n",
    "\n",
    "customprompt = PromptTemplate(\n",
    "            template=prompt_template, input_variables=[\"context\", \"question\"]\n",
    "        )"
   ]
  },
  {
   "cell_type": "code",
   "execution_count": 84,
   "metadata": {},
   "outputs": [
    {
     "data": {
      "text/plain": [
       "LangChainInterface(client=<genai.client.Client object at 0x17ba2cc50>, model_id='ibm/granite-13b-chat-v2', parameters=TextGenerationParameters(beam_width=None, decoding_method='sample', include_stop_sequence=None, length_penalty=None, max_new_tokens=200, min_new_tokens=0, random_seed=None, repetition_penalty=None, return_options=None, stop_sequences=None, temperature=0.7, time_limit=None, top_k=50, top_p=1.0, truncate_input_tokens=None, typical_p=None))"
      ]
     },
     "execution_count": 84,
     "metadata": {},
     "output_type": "execute_result"
    }
   ],
   "source": [
    "model"
   ]
  },
  {
   "cell_type": "code",
   "execution_count": 100,
   "metadata": {},
   "outputs": [
    {
     "data": {
      "text/plain": [
       "'eyJraWQiOiIyMDI0MDgwMzA4NDEiLCJhbGciOiJSUzI1NiJ9.eyJpYW1faWQiOiJJQk1pZC01MDhHOFI3MjMyIiwiaWQiOiJJQk1pZC01MDhHOFI3MjMyIiwicmVhbG1pZCI6IklCTWlkIiwianRpIjoiYWM0Njg0NTctZjcyOC00Y2Q0LWIwNzQtNTdhZTFkYmIwYzU3IiwiaWRlbnRpZmllciI6IjUwOEc4UjcyMzIiLCJnaXZlbl9uYW1lIjoiRmxhdmlhIEphbmluZSIsImZhbWlseV9uYW1lIjoiUm9zYW50ZSBCZW8iLCJuYW1lIjoiRmxhdmlhIEphbmluZSBSb3NhbnRlIEJlbyIsImVtYWlsIjoiRmxhdmlhLkJlb0BpYm0uY29tIiwic3ViIjoiRmxhdmlhLkJlb0BpYm0uY29tIiwiYXV0aG4iOnsic3ViIjoiRmxhdmlhLkJlb0BpYm0uY29tIiwiaWFtX2lkIjoiSUJNaWQtNTA4RzhSNzIzMiIsIm5hbWUiOiJGbGF2aWEgSmFuaW5lIFJvc2FudGUgQmVvIiwiZ2l2ZW5fbmFtZSI6IkZsYXZpYSBKYW5pbmUiLCJmYW1pbHlfbmFtZSI6IlJvc2FudGUgQmVvIiwiZW1haWwiOiJGbGF2aWEuQmVvQGlibS5jb20ifSwiYWNjb3VudCI6eyJ2YWxpZCI6dHJ1ZSwiYnNzIjoiNTk1MDZjNjkzOTVmNGIzZjk3OWY1OTRiZDlkYzM4NWEiLCJpbXNfdXNlcl9pZCI6IjEwOTQyMTIxIiwiZnJvemVuIjp0cnVlLCJpbXMiOiIxOTYwMjY2In0sImlhdCI6MTcyMzk0MjIwMCwiZXhwIjoxNzIzOTQ1ODAwLCJpc3MiOiJodHRwczovL2lhbS5jbG91ZC5pYm0uY29tL2lkZW50aXR5IiwiZ3JhbnRfdHlwZSI6InVybjppYm06cGFyYW1zOm9hdXRoOmdyYW50LXR5cGU6YXBpa2V5Iiwic2NvcGUiOiJpYm0gb3BlbmlkIiwiY2xpZW50X2lkIjoiZGVmYXVsdCIsImFjciI6MSwiYW1yIjpbInB3ZCJdfQ.iyp8TlEn9yBce4niG88OJJDmpIfqCPglnA4uHxXG-AYYvPHkGSA3oTLNa1BdO8DAu_b52Tfk_IjRKbYO5mdITLY0Kax4PbczGR3zCLsre4BYCN5EP25Ywz7EZXAalMGF6_EYt6xdgwWXppvlzPdkEGjHrXkQ7Br54pMBSPzNTpRz7wVJFhOht6J0Yn1AWB7wERaf411AEEe8kSErXt3sZchJM3pbn5y9gGEU77M17zEYDGsduLCSq7McpcLKpd9AAUtjwJBpO22nOym1cT9_bHQ3U7bHXRnALRdzl1-gdAucCm8yEZm7Alz2H1I8W53qMRXT-9PJODoWRZKwDs9W0w'"
      ]
     },
     "execution_count": 100,
     "metadata": {},
     "output_type": "execute_result"
    }
   ],
   "source": [
    "def append_docs(docs):\n",
    "    context = ''\n",
    "    for doc in docs:\n",
    "        context += doc.page_content\n",
    "    return context\n",
    "\n",
    "def get_wkc_token_on_cloud(apikey):\n",
    "    body = {\"grant_type\": \"urn:ibm:params:oauth:grant-type:apikey\",\n",
    "            \"apikey\": apikey}\n",
    "\n",
    "    token_request = requests.post('https://iam.cloud.ibm.com/identity/token',\n",
    "                                  data=body, headers={'content-type': 'application/x-www-form-urlencoded'})\n",
    "    try:\n",
    "        token_request.raise_for_status()\n",
    "    except requests.exceptions.HTTPError as e:\n",
    "        raise e  # return code not equals to 200\n",
    "\n",
    "    return json.loads(token_request.text)[\"access_token\"]\n"
   ]
  },
  {
   "cell_type": "code",
   "execution_count": 103,
   "metadata": {},
   "outputs": [],
   "source": [
    "def qa(question):\n",
    "    docs = vector_db.similarity_search(query)\n",
    "\n",
    "    print(str(len(docs))+\" nearest embeddings found;\")\n",
    "    \n",
    "    context = append_docs(docs=docs)\n",
    "    prompt = customprompt.format(context=context, question=question)\n",
    "\n",
    "    barear_token = get_wkc_token_on_cloud(token)\n",
    "\n",
    "    url = \"https://us-south.ml.cloud.ibm.com/ml/v1/text/generation?version=2023-05-29\"\n",
    "\n",
    "    body = {\n",
    "        \"input\": prompt,\n",
    "        \"parameters\": {\n",
    "            \"decoding_method\": \"greedy\",\n",
    "            \"max_new_tokens\": 900,\n",
    "            \"repetition_penalty\": 1.05\n",
    "        },\n",
    "        \"model_id\": \"ibm/granite-13b-chat-v2\",\n",
    "        \"project_id\": project_id\n",
    "    }\n",
    "\n",
    "    headers = {\n",
    "        \"Accept\": \"application/json\",\n",
    "        \"Content-Type\": \"application/json\",\n",
    "        \"Authorization\": \"Bearer {}\".format(barear_token)\n",
    "    }\n",
    "\n",
    "    response = requests.post(\n",
    "        url,\n",
    "        headers=headers,\n",
    "        json=body\n",
    "    )\n",
    "\n",
    "    if response.status_code != 200:\n",
    "        raise Exception(\"Non-200 response: \" + str(response.text))\n",
    "    \n",
    "    data = response.json()\n",
    "    \n",
    "    return data['results'][0]['generated_text']"
   ]
  },
  {
   "cell_type": "code",
   "execution_count": 104,
   "metadata": {},
   "outputs": [
    {
     "name": "stdout",
     "output_type": "stream",
     "text": [
      "4 nearest embeddings found;\n"
     ]
    },
    {
     "data": {
      "text/plain": [
       "'The net worth of Elon Musk is estimated to be 241 billion dollars as of August 2024.'"
      ]
     },
     "execution_count": 104,
     "metadata": {},
     "output_type": "execute_result"
    }
   ],
   "source": [
    "qa(\"What is the net worth of Elon Musk?\")"
   ]
  },
  {
   "cell_type": "code",
   "execution_count": 105,
   "metadata": {},
   "outputs": [
    {
     "name": "stdout",
     "output_type": "stream",
     "text": [
      "4 nearest embeddings found;\n"
     ]
    },
    {
     "data": {
      "text/plain": [
       "\"Musk attended the University of Pennsylvania for his undergraduate studies, where he received bachelor's degrees in economics and physics.\""
      ]
     },
     "execution_count": 105,
     "metadata": {},
     "output_type": "execute_result"
    }
   ],
   "source": [
    "qa(\"What was the college Elon Musk attended?\")"
   ]
  }
 ],
 "metadata": {
  "kernelspec": {
   "display_name": "watsonx",
   "language": "python",
   "name": "python3"
  },
  "language_info": {
   "codemirror_mode": {
    "name": "ipython",
    "version": 3
   },
   "file_extension": ".py",
   "mimetype": "text/x-python",
   "name": "python",
   "nbconvert_exporter": "python",
   "pygments_lexer": "ipython3",
   "version": "3.11.8"
  }
 },
 "nbformat": 4,
 "nbformat_minor": 2
}
