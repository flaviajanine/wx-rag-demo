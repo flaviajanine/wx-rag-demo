{
 "cells": [
  {
   "cell_type": "code",
   "execution_count": 1,
   "metadata": {},
   "outputs": [
    {
     "name": "stdout",
     "output_type": "stream",
     "text": [
      "Requirement already satisfied: pymilvus==2.4.0 in /Users/flaviajaninebeo/Documents/Virtualenvs/wx-ai-intel-demo/lib/python3.11/site-packages (2.4.0)\n",
      "Requirement already satisfied: setuptools>=67 in /Users/flaviajaninebeo/Documents/Virtualenvs/wx-ai-intel-demo/lib/python3.11/site-packages (from pymilvus==2.4.0) (72.2.0)\n",
      "Requirement already satisfied: grpcio<=1.60.0,>=1.49.1 in /Users/flaviajaninebeo/Documents/Virtualenvs/wx-ai-intel-demo/lib/python3.11/site-packages (from pymilvus==2.4.0) (1.60.0)\n",
      "Requirement already satisfied: protobuf>=3.20.0 in /Users/flaviajaninebeo/Documents/Virtualenvs/wx-ai-intel-demo/lib/python3.11/site-packages (from pymilvus==2.4.0) (5.27.3)\n",
      "Requirement already satisfied: environs<=9.5.0 in /Users/flaviajaninebeo/Documents/Virtualenvs/wx-ai-intel-demo/lib/python3.11/site-packages (from pymilvus==2.4.0) (9.5.0)\n",
      "Requirement already satisfied: ujson>=2.0.0 in /Users/flaviajaninebeo/Documents/Virtualenvs/wx-ai-intel-demo/lib/python3.11/site-packages (from pymilvus==2.4.0) (5.10.0)\n",
      "Requirement already satisfied: pandas>=1.2.4 in /Users/flaviajaninebeo/Documents/Virtualenvs/wx-ai-intel-demo/lib/python3.11/site-packages (from pymilvus==2.4.0) (2.1.4)\n",
      "Requirement already satisfied: requests in /Users/flaviajaninebeo/Documents/Virtualenvs/wx-ai-intel-demo/lib/python3.11/site-packages (from pymilvus==2.4.0) (2.32.2)\n",
      "Requirement already satisfied: minio>=7.0.0 in /Users/flaviajaninebeo/Documents/Virtualenvs/wx-ai-intel-demo/lib/python3.11/site-packages (from pymilvus==2.4.0) (7.2.7)\n",
      "Requirement already satisfied: pyarrow>=12.0.0 in /Users/flaviajaninebeo/Documents/Virtualenvs/wx-ai-intel-demo/lib/python3.11/site-packages (from pymilvus==2.4.0) (17.0.0)\n",
      "Requirement already satisfied: azure-storage-blob in /Users/flaviajaninebeo/Documents/Virtualenvs/wx-ai-intel-demo/lib/python3.11/site-packages (from pymilvus==2.4.0) (12.22.0)\n",
      "Requirement already satisfied: scipy in /Users/flaviajaninebeo/Documents/Virtualenvs/wx-ai-intel-demo/lib/python3.11/site-packages (from pymilvus==2.4.0) (1.14.0)\n",
      "Requirement already satisfied: marshmallow>=3.0.0 in /Users/flaviajaninebeo/Documents/Virtualenvs/wx-ai-intel-demo/lib/python3.11/site-packages (from environs<=9.5.0->pymilvus==2.4.0) (3.21.3)\n",
      "Requirement already satisfied: python-dotenv in /Users/flaviajaninebeo/Documents/Virtualenvs/wx-ai-intel-demo/lib/python3.11/site-packages (from environs<=9.5.0->pymilvus==2.4.0) (1.0.1)\n",
      "Requirement already satisfied: certifi in /Users/flaviajaninebeo/Documents/Virtualenvs/wx-ai-intel-demo/lib/python3.11/site-packages (from minio>=7.0.0->pymilvus==2.4.0) (2024.7.4)\n",
      "Requirement already satisfied: urllib3 in /Users/flaviajaninebeo/Documents/Virtualenvs/wx-ai-intel-demo/lib/python3.11/site-packages (from minio>=7.0.0->pymilvus==2.4.0) (2.2.2)\n",
      "Requirement already satisfied: argon2-cffi in /Users/flaviajaninebeo/Documents/Virtualenvs/wx-ai-intel-demo/lib/python3.11/site-packages (from minio>=7.0.0->pymilvus==2.4.0) (23.1.0)\n",
      "Requirement already satisfied: pycryptodome in /Users/flaviajaninebeo/Documents/Virtualenvs/wx-ai-intel-demo/lib/python3.11/site-packages (from minio>=7.0.0->pymilvus==2.4.0) (3.20.0)\n",
      "Requirement already satisfied: typing-extensions in /Users/flaviajaninebeo/Documents/Virtualenvs/wx-ai-intel-demo/lib/python3.11/site-packages (from minio>=7.0.0->pymilvus==2.4.0) (4.12.2)\n",
      "Requirement already satisfied: numpy<2,>=1.23.2 in /Users/flaviajaninebeo/Documents/Virtualenvs/wx-ai-intel-demo/lib/python3.11/site-packages (from pandas>=1.2.4->pymilvus==2.4.0) (1.26.4)\n",
      "Requirement already satisfied: python-dateutil>=2.8.2 in /Users/flaviajaninebeo/Documents/Virtualenvs/wx-ai-intel-demo/lib/python3.11/site-packages (from pandas>=1.2.4->pymilvus==2.4.0) (2.9.0.post0)\n",
      "Requirement already satisfied: pytz>=2020.1 in /Users/flaviajaninebeo/Documents/Virtualenvs/wx-ai-intel-demo/lib/python3.11/site-packages (from pandas>=1.2.4->pymilvus==2.4.0) (2024.1)\n",
      "Requirement already satisfied: tzdata>=2022.1 in /Users/flaviajaninebeo/Documents/Virtualenvs/wx-ai-intel-demo/lib/python3.11/site-packages (from pandas>=1.2.4->pymilvus==2.4.0) (2024.1)\n",
      "Requirement already satisfied: azure-core>=1.28.0 in /Users/flaviajaninebeo/Documents/Virtualenvs/wx-ai-intel-demo/lib/python3.11/site-packages (from azure-storage-blob->pymilvus==2.4.0) (1.30.2)\n",
      "Requirement already satisfied: cryptography>=2.1.4 in /Users/flaviajaninebeo/Documents/Virtualenvs/wx-ai-intel-demo/lib/python3.11/site-packages (from azure-storage-blob->pymilvus==2.4.0) (43.0.0)\n",
      "Requirement already satisfied: isodate>=0.6.1 in /Users/flaviajaninebeo/Documents/Virtualenvs/wx-ai-intel-demo/lib/python3.11/site-packages (from azure-storage-blob->pymilvus==2.4.0) (0.6.1)\n",
      "Requirement already satisfied: charset-normalizer<4,>=2 in /Users/flaviajaninebeo/Documents/Virtualenvs/wx-ai-intel-demo/lib/python3.11/site-packages (from requests->pymilvus==2.4.0) (3.3.2)\n",
      "Requirement already satisfied: idna<4,>=2.5 in /Users/flaviajaninebeo/Documents/Virtualenvs/wx-ai-intel-demo/lib/python3.11/site-packages (from requests->pymilvus==2.4.0) (3.7)\n",
      "Requirement already satisfied: six>=1.11.0 in /Users/flaviajaninebeo/Documents/Virtualenvs/wx-ai-intel-demo/lib/python3.11/site-packages (from azure-core>=1.28.0->azure-storage-blob->pymilvus==2.4.0) (1.16.0)\n",
      "Requirement already satisfied: cffi>=1.12 in /Users/flaviajaninebeo/Documents/Virtualenvs/wx-ai-intel-demo/lib/python3.11/site-packages (from cryptography>=2.1.4->azure-storage-blob->pymilvus==2.4.0) (1.17.0)\n",
      "Requirement already satisfied: packaging>=17.0 in /Users/flaviajaninebeo/Documents/Virtualenvs/wx-ai-intel-demo/lib/python3.11/site-packages (from marshmallow>=3.0.0->environs<=9.5.0->pymilvus==2.4.0) (24.1)\n",
      "Requirement already satisfied: argon2-cffi-bindings in /Users/flaviajaninebeo/Documents/Virtualenvs/wx-ai-intel-demo/lib/python3.11/site-packages (from argon2-cffi->minio>=7.0.0->pymilvus==2.4.0) (21.2.0)\n",
      "Requirement already satisfied: pycparser in /Users/flaviajaninebeo/Documents/Virtualenvs/wx-ai-intel-demo/lib/python3.11/site-packages (from cffi>=1.12->cryptography>=2.1.4->azure-storage-blob->pymilvus==2.4.0) (2.22)\n",
      "\n",
      "\u001b[1m[\u001b[0m\u001b[34;49mnotice\u001b[0m\u001b[1;39;49m]\u001b[0m\u001b[39;49m A new release of pip is available: \u001b[0m\u001b[31;49m24.1.2\u001b[0m\u001b[39;49m -> \u001b[0m\u001b[32;49m24.2\u001b[0m\n",
      "\u001b[1m[\u001b[0m\u001b[34;49mnotice\u001b[0m\u001b[1;39;49m]\u001b[0m\u001b[39;49m To update, run: \u001b[0m\u001b[32;49mpip install --upgrade pip\u001b[0m\n",
      "Requirement already satisfied: langchain in /Users/flaviajaninebeo/Documents/Virtualenvs/wx-ai-intel-demo/lib/python3.11/site-packages (0.2.14)\n",
      "Requirement already satisfied: PyYAML>=5.3 in /Users/flaviajaninebeo/Documents/Virtualenvs/wx-ai-intel-demo/lib/python3.11/site-packages (from langchain) (6.0.2)\n",
      "Requirement already satisfied: SQLAlchemy<3,>=1.4 in /Users/flaviajaninebeo/Documents/Virtualenvs/wx-ai-intel-demo/lib/python3.11/site-packages (from langchain) (2.0.32)\n",
      "Requirement already satisfied: aiohttp<4.0.0,>=3.8.3 in /Users/flaviajaninebeo/Documents/Virtualenvs/wx-ai-intel-demo/lib/python3.11/site-packages (from langchain) (3.10.3)\n",
      "Requirement already satisfied: langchain-core<0.3.0,>=0.2.32 in /Users/flaviajaninebeo/Documents/Virtualenvs/wx-ai-intel-demo/lib/python3.11/site-packages (from langchain) (0.2.32)\n",
      "Requirement already satisfied: langchain-text-splitters<0.3.0,>=0.2.0 in /Users/flaviajaninebeo/Documents/Virtualenvs/wx-ai-intel-demo/lib/python3.11/site-packages (from langchain) (0.2.2)\n",
      "Requirement already satisfied: langsmith<0.2.0,>=0.1.17 in /Users/flaviajaninebeo/Documents/Virtualenvs/wx-ai-intel-demo/lib/python3.11/site-packages (from langchain) (0.1.99)\n",
      "Requirement already satisfied: numpy<2,>=1 in /Users/flaviajaninebeo/Documents/Virtualenvs/wx-ai-intel-demo/lib/python3.11/site-packages (from langchain) (1.26.4)\n",
      "Requirement already satisfied: pydantic<3,>=1 in /Users/flaviajaninebeo/Documents/Virtualenvs/wx-ai-intel-demo/lib/python3.11/site-packages (from langchain) (2.8.2)\n",
      "Requirement already satisfied: requests<3,>=2 in /Users/flaviajaninebeo/Documents/Virtualenvs/wx-ai-intel-demo/lib/python3.11/site-packages (from langchain) (2.32.2)\n",
      "Requirement already satisfied: tenacity!=8.4.0,<9.0.0,>=8.1.0 in /Users/flaviajaninebeo/Documents/Virtualenvs/wx-ai-intel-demo/lib/python3.11/site-packages (from langchain) (8.5.0)\n",
      "Requirement already satisfied: aiohappyeyeballs>=2.3.0 in /Users/flaviajaninebeo/Documents/Virtualenvs/wx-ai-intel-demo/lib/python3.11/site-packages (from aiohttp<4.0.0,>=3.8.3->langchain) (2.3.5)\n",
      "Requirement already satisfied: aiosignal>=1.1.2 in /Users/flaviajaninebeo/Documents/Virtualenvs/wx-ai-intel-demo/lib/python3.11/site-packages (from aiohttp<4.0.0,>=3.8.3->langchain) (1.3.1)\n",
      "Requirement already satisfied: attrs>=17.3.0 in /Users/flaviajaninebeo/Documents/Virtualenvs/wx-ai-intel-demo/lib/python3.11/site-packages (from aiohttp<4.0.0,>=3.8.3->langchain) (24.2.0)\n",
      "Requirement already satisfied: frozenlist>=1.1.1 in /Users/flaviajaninebeo/Documents/Virtualenvs/wx-ai-intel-demo/lib/python3.11/site-packages (from aiohttp<4.0.0,>=3.8.3->langchain) (1.4.1)\n",
      "Requirement already satisfied: multidict<7.0,>=4.5 in /Users/flaviajaninebeo/Documents/Virtualenvs/wx-ai-intel-demo/lib/python3.11/site-packages (from aiohttp<4.0.0,>=3.8.3->langchain) (6.0.5)\n",
      "Requirement already satisfied: yarl<2.0,>=1.0 in /Users/flaviajaninebeo/Documents/Virtualenvs/wx-ai-intel-demo/lib/python3.11/site-packages (from aiohttp<4.0.0,>=3.8.3->langchain) (1.9.4)\n",
      "Requirement already satisfied: jsonpatch<2.0,>=1.33 in /Users/flaviajaninebeo/Documents/Virtualenvs/wx-ai-intel-demo/lib/python3.11/site-packages (from langchain-core<0.3.0,>=0.2.32->langchain) (1.33)\n",
      "Requirement already satisfied: packaging<25,>=23.2 in /Users/flaviajaninebeo/Documents/Virtualenvs/wx-ai-intel-demo/lib/python3.11/site-packages (from langchain-core<0.3.0,>=0.2.32->langchain) (24.1)\n",
      "Requirement already satisfied: typing-extensions>=4.7 in /Users/flaviajaninebeo/Documents/Virtualenvs/wx-ai-intel-demo/lib/python3.11/site-packages (from langchain-core<0.3.0,>=0.2.32->langchain) (4.12.2)\n",
      "Requirement already satisfied: orjson<4.0.0,>=3.9.14 in /Users/flaviajaninebeo/Documents/Virtualenvs/wx-ai-intel-demo/lib/python3.11/site-packages (from langsmith<0.2.0,>=0.1.17->langchain) (3.10.7)\n",
      "Requirement already satisfied: annotated-types>=0.4.0 in /Users/flaviajaninebeo/Documents/Virtualenvs/wx-ai-intel-demo/lib/python3.11/site-packages (from pydantic<3,>=1->langchain) (0.7.0)\n",
      "Requirement already satisfied: pydantic-core==2.20.1 in /Users/flaviajaninebeo/Documents/Virtualenvs/wx-ai-intel-demo/lib/python3.11/site-packages (from pydantic<3,>=1->langchain) (2.20.1)\n",
      "Requirement already satisfied: charset-normalizer<4,>=2 in /Users/flaviajaninebeo/Documents/Virtualenvs/wx-ai-intel-demo/lib/python3.11/site-packages (from requests<3,>=2->langchain) (3.3.2)\n",
      "Requirement already satisfied: idna<4,>=2.5 in /Users/flaviajaninebeo/Documents/Virtualenvs/wx-ai-intel-demo/lib/python3.11/site-packages (from requests<3,>=2->langchain) (3.7)\n",
      "Requirement already satisfied: urllib3<3,>=1.21.1 in /Users/flaviajaninebeo/Documents/Virtualenvs/wx-ai-intel-demo/lib/python3.11/site-packages (from requests<3,>=2->langchain) (2.2.2)\n",
      "Requirement already satisfied: certifi>=2017.4.17 in /Users/flaviajaninebeo/Documents/Virtualenvs/wx-ai-intel-demo/lib/python3.11/site-packages (from requests<3,>=2->langchain) (2024.7.4)\n",
      "Requirement already satisfied: jsonpointer>=1.9 in /Users/flaviajaninebeo/Documents/Virtualenvs/wx-ai-intel-demo/lib/python3.11/site-packages (from jsonpatch<2.0,>=1.33->langchain-core<0.3.0,>=0.2.32->langchain) (3.0.0)\n",
      "\n",
      "\u001b[1m[\u001b[0m\u001b[34;49mnotice\u001b[0m\u001b[1;39;49m]\u001b[0m\u001b[39;49m A new release of pip is available: \u001b[0m\u001b[31;49m24.1.2\u001b[0m\u001b[39;49m -> \u001b[0m\u001b[32;49m24.2\u001b[0m\n",
      "\u001b[1m[\u001b[0m\u001b[34;49mnotice\u001b[0m\u001b[1;39;49m]\u001b[0m\u001b[39;49m To update, run: \u001b[0m\u001b[32;49mpip install --upgrade pip\u001b[0m\n",
      "Requirement already satisfied: ibm-generative-ai in /Users/flaviajaninebeo/Documents/Virtualenvs/wx-ai-intel-demo/lib/python3.11/site-packages (3.0.0)\n",
      "Requirement already satisfied: aiolimiter<2.0.0,>=1.1.0 in /Users/flaviajaninebeo/Documents/Virtualenvs/wx-ai-intel-demo/lib/python3.11/site-packages (from ibm-generative-ai) (1.1.0)\n",
      "Requirement already satisfied: deprecated<2.0.0,>=1.2.14 in /Users/flaviajaninebeo/Documents/Virtualenvs/wx-ai-intel-demo/lib/python3.11/site-packages (from ibm-generative-ai) (1.2.14)\n",
      "Requirement already satisfied: httpx<0.28.0,>=0.27.0 in /Users/flaviajaninebeo/Documents/Virtualenvs/wx-ai-intel-demo/lib/python3.11/site-packages (from ibm-generative-ai) (0.27.0)\n",
      "Requirement already satisfied: httpx-sse<0.5.0,>=0.4.0 in /Users/flaviajaninebeo/Documents/Virtualenvs/wx-ai-intel-demo/lib/python3.11/site-packages (from ibm-generative-ai) (0.4.0)\n",
      "Requirement already satisfied: pydantic<3.0.0,>=2.0.0 in /Users/flaviajaninebeo/Documents/Virtualenvs/wx-ai-intel-demo/lib/python3.11/site-packages (from ibm-generative-ai) (2.8.2)\n",
      "Requirement already satisfied: wrapt<2,>=1.10 in /Users/flaviajaninebeo/Documents/Virtualenvs/wx-ai-intel-demo/lib/python3.11/site-packages (from deprecated<2.0.0,>=1.2.14->ibm-generative-ai) (1.16.0)\n",
      "Requirement already satisfied: anyio in /Users/flaviajaninebeo/Documents/Virtualenvs/wx-ai-intel-demo/lib/python3.11/site-packages (from httpx<0.28.0,>=0.27.0->ibm-generative-ai) (4.4.0)\n",
      "Requirement already satisfied: certifi in /Users/flaviajaninebeo/Documents/Virtualenvs/wx-ai-intel-demo/lib/python3.11/site-packages (from httpx<0.28.0,>=0.27.0->ibm-generative-ai) (2024.7.4)\n",
      "Requirement already satisfied: httpcore==1.* in /Users/flaviajaninebeo/Documents/Virtualenvs/wx-ai-intel-demo/lib/python3.11/site-packages (from httpx<0.28.0,>=0.27.0->ibm-generative-ai) (1.0.5)\n",
      "Requirement already satisfied: idna in /Users/flaviajaninebeo/Documents/Virtualenvs/wx-ai-intel-demo/lib/python3.11/site-packages (from httpx<0.28.0,>=0.27.0->ibm-generative-ai) (3.7)\n",
      "Requirement already satisfied: sniffio in /Users/flaviajaninebeo/Documents/Virtualenvs/wx-ai-intel-demo/lib/python3.11/site-packages (from httpx<0.28.0,>=0.27.0->ibm-generative-ai) (1.3.1)\n",
      "Requirement already satisfied: h11<0.15,>=0.13 in /Users/flaviajaninebeo/Documents/Virtualenvs/wx-ai-intel-demo/lib/python3.11/site-packages (from httpcore==1.*->httpx<0.28.0,>=0.27.0->ibm-generative-ai) (0.14.0)\n",
      "Requirement already satisfied: annotated-types>=0.4.0 in /Users/flaviajaninebeo/Documents/Virtualenvs/wx-ai-intel-demo/lib/python3.11/site-packages (from pydantic<3.0.0,>=2.0.0->ibm-generative-ai) (0.7.0)\n",
      "Requirement already satisfied: pydantic-core==2.20.1 in /Users/flaviajaninebeo/Documents/Virtualenvs/wx-ai-intel-demo/lib/python3.11/site-packages (from pydantic<3.0.0,>=2.0.0->ibm-generative-ai) (2.20.1)\n",
      "Requirement already satisfied: typing-extensions>=4.6.1 in /Users/flaviajaninebeo/Documents/Virtualenvs/wx-ai-intel-demo/lib/python3.11/site-packages (from pydantic<3.0.0,>=2.0.0->ibm-generative-ai) (4.12.2)\n",
      "\n",
      "\u001b[1m[\u001b[0m\u001b[34;49mnotice\u001b[0m\u001b[1;39;49m]\u001b[0m\u001b[39;49m A new release of pip is available: \u001b[0m\u001b[31;49m24.1.2\u001b[0m\u001b[39;49m -> \u001b[0m\u001b[32;49m24.2\u001b[0m\n",
      "\u001b[1m[\u001b[0m\u001b[34;49mnotice\u001b[0m\u001b[1;39;49m]\u001b[0m\u001b[39;49m To update, run: \u001b[0m\u001b[32;49mpip install --upgrade pip\u001b[0m\n",
      "Requirement already satisfied: unstructured in /Users/flaviajaninebeo/Documents/Virtualenvs/wx-ai-intel-demo/lib/python3.11/site-packages (0.15.3)\n",
      "Requirement already satisfied: chardet in /Users/flaviajaninebeo/Documents/Virtualenvs/wx-ai-intel-demo/lib/python3.11/site-packages (from unstructured) (5.2.0)\n",
      "Requirement already satisfied: filetype in /Users/flaviajaninebeo/Documents/Virtualenvs/wx-ai-intel-demo/lib/python3.11/site-packages (from unstructured) (1.2.0)\n",
      "Requirement already satisfied: python-magic in /Users/flaviajaninebeo/Documents/Virtualenvs/wx-ai-intel-demo/lib/python3.11/site-packages (from unstructured) (0.4.27)\n",
      "Requirement already satisfied: lxml in /Users/flaviajaninebeo/Documents/Virtualenvs/wx-ai-intel-demo/lib/python3.11/site-packages (from unstructured) (5.3.0)\n",
      "Requirement already satisfied: nltk in /Users/flaviajaninebeo/Documents/Virtualenvs/wx-ai-intel-demo/lib/python3.11/site-packages (from unstructured) (3.8.1)\n",
      "Requirement already satisfied: tabulate in /Users/flaviajaninebeo/Documents/Virtualenvs/wx-ai-intel-demo/lib/python3.11/site-packages (from unstructured) (0.9.0)\n",
      "Requirement already satisfied: requests in /Users/flaviajaninebeo/Documents/Virtualenvs/wx-ai-intel-demo/lib/python3.11/site-packages (from unstructured) (2.32.2)\n",
      "Requirement already satisfied: beautifulsoup4 in /Users/flaviajaninebeo/Documents/Virtualenvs/wx-ai-intel-demo/lib/python3.11/site-packages (from unstructured) (4.12.3)\n",
      "Requirement already satisfied: emoji in /Users/flaviajaninebeo/Documents/Virtualenvs/wx-ai-intel-demo/lib/python3.11/site-packages (from unstructured) (2.12.1)\n",
      "Requirement already satisfied: dataclasses-json in /Users/flaviajaninebeo/Documents/Virtualenvs/wx-ai-intel-demo/lib/python3.11/site-packages (from unstructured) (0.6.7)\n",
      "Requirement already satisfied: python-iso639 in /Users/flaviajaninebeo/Documents/Virtualenvs/wx-ai-intel-demo/lib/python3.11/site-packages (from unstructured) (2024.4.27)\n",
      "Requirement already satisfied: langdetect in /Users/flaviajaninebeo/Documents/Virtualenvs/wx-ai-intel-demo/lib/python3.11/site-packages (from unstructured) (1.0.9)\n",
      "Requirement already satisfied: numpy<2 in /Users/flaviajaninebeo/Documents/Virtualenvs/wx-ai-intel-demo/lib/python3.11/site-packages (from unstructured) (1.26.4)\n",
      "Requirement already satisfied: rapidfuzz in /Users/flaviajaninebeo/Documents/Virtualenvs/wx-ai-intel-demo/lib/python3.11/site-packages (from unstructured) (3.9.6)\n",
      "Requirement already satisfied: backoff in /Users/flaviajaninebeo/Documents/Virtualenvs/wx-ai-intel-demo/lib/python3.11/site-packages (from unstructured) (2.2.1)\n",
      "Requirement already satisfied: typing-extensions in /Users/flaviajaninebeo/Documents/Virtualenvs/wx-ai-intel-demo/lib/python3.11/site-packages (from unstructured) (4.12.2)\n",
      "Requirement already satisfied: unstructured-client in /Users/flaviajaninebeo/Documents/Virtualenvs/wx-ai-intel-demo/lib/python3.11/site-packages (from unstructured) (0.25.5)\n",
      "Requirement already satisfied: wrapt in /Users/flaviajaninebeo/Documents/Virtualenvs/wx-ai-intel-demo/lib/python3.11/site-packages (from unstructured) (1.16.0)\n",
      "Requirement already satisfied: tqdm in /Users/flaviajaninebeo/Documents/Virtualenvs/wx-ai-intel-demo/lib/python3.11/site-packages (from unstructured) (4.66.5)\n",
      "Requirement already satisfied: psutil in /Users/flaviajaninebeo/Documents/Virtualenvs/wx-ai-intel-demo/lib/python3.11/site-packages (from unstructured) (6.0.0)\n",
      "Requirement already satisfied: soupsieve>1.2 in /Users/flaviajaninebeo/Documents/Virtualenvs/wx-ai-intel-demo/lib/python3.11/site-packages (from beautifulsoup4->unstructured) (2.6)\n",
      "Requirement already satisfied: marshmallow<4.0.0,>=3.18.0 in /Users/flaviajaninebeo/Documents/Virtualenvs/wx-ai-intel-demo/lib/python3.11/site-packages (from dataclasses-json->unstructured) (3.21.3)\n",
      "Requirement already satisfied: typing-inspect<1,>=0.4.0 in /Users/flaviajaninebeo/Documents/Virtualenvs/wx-ai-intel-demo/lib/python3.11/site-packages (from dataclasses-json->unstructured) (0.9.0)\n",
      "Requirement already satisfied: six in /Users/flaviajaninebeo/Documents/Virtualenvs/wx-ai-intel-demo/lib/python3.11/site-packages (from langdetect->unstructured) (1.16.0)\n",
      "Requirement already satisfied: click in /Users/flaviajaninebeo/Documents/Virtualenvs/wx-ai-intel-demo/lib/python3.11/site-packages (from nltk->unstructured) (8.1.7)\n",
      "Requirement already satisfied: joblib in /Users/flaviajaninebeo/Documents/Virtualenvs/wx-ai-intel-demo/lib/python3.11/site-packages (from nltk->unstructured) (1.4.2)\n",
      "Requirement already satisfied: regex>=2021.8.3 in /Users/flaviajaninebeo/Documents/Virtualenvs/wx-ai-intel-demo/lib/python3.11/site-packages (from nltk->unstructured) (2024.7.24)\n",
      "Requirement already satisfied: charset-normalizer<4,>=2 in /Users/flaviajaninebeo/Documents/Virtualenvs/wx-ai-intel-demo/lib/python3.11/site-packages (from requests->unstructured) (3.3.2)\n",
      "Requirement already satisfied: idna<4,>=2.5 in /Users/flaviajaninebeo/Documents/Virtualenvs/wx-ai-intel-demo/lib/python3.11/site-packages (from requests->unstructured) (3.7)\n",
      "Requirement already satisfied: urllib3<3,>=1.21.1 in /Users/flaviajaninebeo/Documents/Virtualenvs/wx-ai-intel-demo/lib/python3.11/site-packages (from requests->unstructured) (2.2.2)\n",
      "Requirement already satisfied: certifi>=2017.4.17 in /Users/flaviajaninebeo/Documents/Virtualenvs/wx-ai-intel-demo/lib/python3.11/site-packages (from requests->unstructured) (2024.7.4)\n",
      "Requirement already satisfied: deepdiff>=6.0 in /Users/flaviajaninebeo/Documents/Virtualenvs/wx-ai-intel-demo/lib/python3.11/site-packages (from unstructured-client->unstructured) (7.0.1)\n",
      "Requirement already satisfied: httpx>=0.27.0 in /Users/flaviajaninebeo/Documents/Virtualenvs/wx-ai-intel-demo/lib/python3.11/site-packages (from unstructured-client->unstructured) (0.27.0)\n",
      "Requirement already satisfied: jsonpath-python>=1.0.6 in /Users/flaviajaninebeo/Documents/Virtualenvs/wx-ai-intel-demo/lib/python3.11/site-packages (from unstructured-client->unstructured) (1.0.6)\n",
      "Requirement already satisfied: mypy-extensions>=1.0.0 in /Users/flaviajaninebeo/Documents/Virtualenvs/wx-ai-intel-demo/lib/python3.11/site-packages (from unstructured-client->unstructured) (1.0.0)\n",
      "Requirement already satisfied: nest-asyncio>=1.6.0 in /Users/flaviajaninebeo/Documents/Virtualenvs/wx-ai-intel-demo/lib/python3.11/site-packages (from unstructured-client->unstructured) (1.6.0)\n",
      "Requirement already satisfied: packaging>=23.1 in /Users/flaviajaninebeo/Documents/Virtualenvs/wx-ai-intel-demo/lib/python3.11/site-packages (from unstructured-client->unstructured) (24.1)\n",
      "Requirement already satisfied: pypdf>=4.0 in /Users/flaviajaninebeo/Documents/Virtualenvs/wx-ai-intel-demo/lib/python3.11/site-packages (from unstructured-client->unstructured) (4.3.1)\n",
      "Requirement already satisfied: python-dateutil>=2.8.2 in /Users/flaviajaninebeo/Documents/Virtualenvs/wx-ai-intel-demo/lib/python3.11/site-packages (from unstructured-client->unstructured) (2.9.0.post0)\n",
      "Requirement already satisfied: requests-toolbelt>=1.0.0 in /Users/flaviajaninebeo/Documents/Virtualenvs/wx-ai-intel-demo/lib/python3.11/site-packages (from unstructured-client->unstructured) (1.0.0)\n",
      "Requirement already satisfied: ordered-set<4.2.0,>=4.1.0 in /Users/flaviajaninebeo/Documents/Virtualenvs/wx-ai-intel-demo/lib/python3.11/site-packages (from deepdiff>=6.0->unstructured-client->unstructured) (4.1.0)\n",
      "Requirement already satisfied: anyio in /Users/flaviajaninebeo/Documents/Virtualenvs/wx-ai-intel-demo/lib/python3.11/site-packages (from httpx>=0.27.0->unstructured-client->unstructured) (4.4.0)\n",
      "Requirement already satisfied: httpcore==1.* in /Users/flaviajaninebeo/Documents/Virtualenvs/wx-ai-intel-demo/lib/python3.11/site-packages (from httpx>=0.27.0->unstructured-client->unstructured) (1.0.5)\n",
      "Requirement already satisfied: sniffio in /Users/flaviajaninebeo/Documents/Virtualenvs/wx-ai-intel-demo/lib/python3.11/site-packages (from httpx>=0.27.0->unstructured-client->unstructured) (1.3.1)\n",
      "Requirement already satisfied: h11<0.15,>=0.13 in /Users/flaviajaninebeo/Documents/Virtualenvs/wx-ai-intel-demo/lib/python3.11/site-packages (from httpcore==1.*->httpx>=0.27.0->unstructured-client->unstructured) (0.14.0)\n",
      "\n",
      "\u001b[1m[\u001b[0m\u001b[34;49mnotice\u001b[0m\u001b[1;39;49m]\u001b[0m\u001b[39;49m A new release of pip is available: \u001b[0m\u001b[31;49m24.1.2\u001b[0m\u001b[39;49m -> \u001b[0m\u001b[32;49m24.2\u001b[0m\n",
      "\u001b[1m[\u001b[0m\u001b[34;49mnotice\u001b[0m\u001b[1;39;49m]\u001b[0m\u001b[39;49m To update, run: \u001b[0m\u001b[32;49mpip install --upgrade pip\u001b[0m\n",
      "Requirement already satisfied: huggingface-hub in /Users/flaviajaninebeo/Documents/Virtualenvs/wx-ai-intel-demo/lib/python3.11/site-packages (0.24.5)\n",
      "Requirement already satisfied: filelock in /Users/flaviajaninebeo/Documents/Virtualenvs/wx-ai-intel-demo/lib/python3.11/site-packages (from huggingface-hub) (3.15.4)\n",
      "Requirement already satisfied: fsspec>=2023.5.0 in /Users/flaviajaninebeo/Documents/Virtualenvs/wx-ai-intel-demo/lib/python3.11/site-packages (from huggingface-hub) (2024.6.1)\n",
      "Requirement already satisfied: packaging>=20.9 in /Users/flaviajaninebeo/Documents/Virtualenvs/wx-ai-intel-demo/lib/python3.11/site-packages (from huggingface-hub) (24.1)\n",
      "Requirement already satisfied: pyyaml>=5.1 in /Users/flaviajaninebeo/Documents/Virtualenvs/wx-ai-intel-demo/lib/python3.11/site-packages (from huggingface-hub) (6.0.2)\n",
      "Requirement already satisfied: requests in /Users/flaviajaninebeo/Documents/Virtualenvs/wx-ai-intel-demo/lib/python3.11/site-packages (from huggingface-hub) (2.32.2)\n",
      "Requirement already satisfied: tqdm>=4.42.1 in /Users/flaviajaninebeo/Documents/Virtualenvs/wx-ai-intel-demo/lib/python3.11/site-packages (from huggingface-hub) (4.66.5)\n",
      "Requirement already satisfied: typing-extensions>=3.7.4.3 in /Users/flaviajaninebeo/Documents/Virtualenvs/wx-ai-intel-demo/lib/python3.11/site-packages (from huggingface-hub) (4.12.2)\n",
      "Requirement already satisfied: charset-normalizer<4,>=2 in /Users/flaviajaninebeo/Documents/Virtualenvs/wx-ai-intel-demo/lib/python3.11/site-packages (from requests->huggingface-hub) (3.3.2)\n",
      "Requirement already satisfied: idna<4,>=2.5 in /Users/flaviajaninebeo/Documents/Virtualenvs/wx-ai-intel-demo/lib/python3.11/site-packages (from requests->huggingface-hub) (3.7)\n",
      "Requirement already satisfied: urllib3<3,>=1.21.1 in /Users/flaviajaninebeo/Documents/Virtualenvs/wx-ai-intel-demo/lib/python3.11/site-packages (from requests->huggingface-hub) (2.2.2)\n",
      "Requirement already satisfied: certifi>=2017.4.17 in /Users/flaviajaninebeo/Documents/Virtualenvs/wx-ai-intel-demo/lib/python3.11/site-packages (from requests->huggingface-hub) (2024.7.4)\n",
      "\n",
      "\u001b[1m[\u001b[0m\u001b[34;49mnotice\u001b[0m\u001b[1;39;49m]\u001b[0m\u001b[39;49m A new release of pip is available: \u001b[0m\u001b[31;49m24.1.2\u001b[0m\u001b[39;49m -> \u001b[0m\u001b[32;49m24.2\u001b[0m\n",
      "\u001b[1m[\u001b[0m\u001b[34;49mnotice\u001b[0m\u001b[1;39;49m]\u001b[0m\u001b[39;49m To update, run: \u001b[0m\u001b[32;49mpip install --upgrade pip\u001b[0m\n",
      "Requirement already satisfied: sentence-transformers in /Users/flaviajaninebeo/Documents/Virtualenvs/wx-ai-intel-demo/lib/python3.11/site-packages (3.0.1)\n",
      "Requirement already satisfied: transformers<5.0.0,>=4.34.0 in /Users/flaviajaninebeo/Documents/Virtualenvs/wx-ai-intel-demo/lib/python3.11/site-packages (from sentence-transformers) (4.44.0)\n",
      "Requirement already satisfied: tqdm in /Users/flaviajaninebeo/Documents/Virtualenvs/wx-ai-intel-demo/lib/python3.11/site-packages (from sentence-transformers) (4.66.5)\n",
      "Requirement already satisfied: torch>=1.11.0 in /Users/flaviajaninebeo/Documents/Virtualenvs/wx-ai-intel-demo/lib/python3.11/site-packages (from sentence-transformers) (2.4.0)\n",
      "Requirement already satisfied: numpy in /Users/flaviajaninebeo/Documents/Virtualenvs/wx-ai-intel-demo/lib/python3.11/site-packages (from sentence-transformers) (1.26.4)\n",
      "Requirement already satisfied: scikit-learn in /Users/flaviajaninebeo/Documents/Virtualenvs/wx-ai-intel-demo/lib/python3.11/site-packages (from sentence-transformers) (1.5.1)\n",
      "Requirement already satisfied: scipy in /Users/flaviajaninebeo/Documents/Virtualenvs/wx-ai-intel-demo/lib/python3.11/site-packages (from sentence-transformers) (1.14.0)\n",
      "Requirement already satisfied: huggingface-hub>=0.15.1 in /Users/flaviajaninebeo/Documents/Virtualenvs/wx-ai-intel-demo/lib/python3.11/site-packages (from sentence-transformers) (0.24.5)\n",
      "Requirement already satisfied: Pillow in /Users/flaviajaninebeo/Documents/Virtualenvs/wx-ai-intel-demo/lib/python3.11/site-packages (from sentence-transformers) (10.4.0)\n",
      "Requirement already satisfied: filelock in /Users/flaviajaninebeo/Documents/Virtualenvs/wx-ai-intel-demo/lib/python3.11/site-packages (from huggingface-hub>=0.15.1->sentence-transformers) (3.15.4)\n",
      "Requirement already satisfied: fsspec>=2023.5.0 in /Users/flaviajaninebeo/Documents/Virtualenvs/wx-ai-intel-demo/lib/python3.11/site-packages (from huggingface-hub>=0.15.1->sentence-transformers) (2024.6.1)\n",
      "Requirement already satisfied: packaging>=20.9 in /Users/flaviajaninebeo/Documents/Virtualenvs/wx-ai-intel-demo/lib/python3.11/site-packages (from huggingface-hub>=0.15.1->sentence-transformers) (24.1)\n",
      "Requirement already satisfied: pyyaml>=5.1 in /Users/flaviajaninebeo/Documents/Virtualenvs/wx-ai-intel-demo/lib/python3.11/site-packages (from huggingface-hub>=0.15.1->sentence-transformers) (6.0.2)\n",
      "Requirement already satisfied: requests in /Users/flaviajaninebeo/Documents/Virtualenvs/wx-ai-intel-demo/lib/python3.11/site-packages (from huggingface-hub>=0.15.1->sentence-transformers) (2.32.2)\n",
      "Requirement already satisfied: typing-extensions>=3.7.4.3 in /Users/flaviajaninebeo/Documents/Virtualenvs/wx-ai-intel-demo/lib/python3.11/site-packages (from huggingface-hub>=0.15.1->sentence-transformers) (4.12.2)\n",
      "Requirement already satisfied: sympy in /Users/flaviajaninebeo/Documents/Virtualenvs/wx-ai-intel-demo/lib/python3.11/site-packages (from torch>=1.11.0->sentence-transformers) (1.13.2)\n",
      "Requirement already satisfied: networkx in /Users/flaviajaninebeo/Documents/Virtualenvs/wx-ai-intel-demo/lib/python3.11/site-packages (from torch>=1.11.0->sentence-transformers) (3.3)\n",
      "Requirement already satisfied: jinja2 in /Users/flaviajaninebeo/Documents/Virtualenvs/wx-ai-intel-demo/lib/python3.11/site-packages (from torch>=1.11.0->sentence-transformers) (3.1.4)\n",
      "Requirement already satisfied: regex!=2019.12.17 in /Users/flaviajaninebeo/Documents/Virtualenvs/wx-ai-intel-demo/lib/python3.11/site-packages (from transformers<5.0.0,>=4.34.0->sentence-transformers) (2024.7.24)\n",
      "Requirement already satisfied: safetensors>=0.4.1 in /Users/flaviajaninebeo/Documents/Virtualenvs/wx-ai-intel-demo/lib/python3.11/site-packages (from transformers<5.0.0,>=4.34.0->sentence-transformers) (0.4.4)\n",
      "Requirement already satisfied: tokenizers<0.20,>=0.19 in /Users/flaviajaninebeo/Documents/Virtualenvs/wx-ai-intel-demo/lib/python3.11/site-packages (from transformers<5.0.0,>=4.34.0->sentence-transformers) (0.19.1)\n",
      "Requirement already satisfied: joblib>=1.2.0 in /Users/flaviajaninebeo/Documents/Virtualenvs/wx-ai-intel-demo/lib/python3.11/site-packages (from scikit-learn->sentence-transformers) (1.4.2)\n",
      "Requirement already satisfied: threadpoolctl>=3.1.0 in /Users/flaviajaninebeo/Documents/Virtualenvs/wx-ai-intel-demo/lib/python3.11/site-packages (from scikit-learn->sentence-transformers) (3.5.0)\n",
      "Requirement already satisfied: MarkupSafe>=2.0 in /Users/flaviajaninebeo/Documents/Virtualenvs/wx-ai-intel-demo/lib/python3.11/site-packages (from jinja2->torch>=1.11.0->sentence-transformers) (2.1.5)\n",
      "Requirement already satisfied: charset-normalizer<4,>=2 in /Users/flaviajaninebeo/Documents/Virtualenvs/wx-ai-intel-demo/lib/python3.11/site-packages (from requests->huggingface-hub>=0.15.1->sentence-transformers) (3.3.2)\n",
      "Requirement already satisfied: idna<4,>=2.5 in /Users/flaviajaninebeo/Documents/Virtualenvs/wx-ai-intel-demo/lib/python3.11/site-packages (from requests->huggingface-hub>=0.15.1->sentence-transformers) (3.7)\n",
      "Requirement already satisfied: urllib3<3,>=1.21.1 in /Users/flaviajaninebeo/Documents/Virtualenvs/wx-ai-intel-demo/lib/python3.11/site-packages (from requests->huggingface-hub>=0.15.1->sentence-transformers) (2.2.2)\n",
      "Requirement already satisfied: certifi>=2017.4.17 in /Users/flaviajaninebeo/Documents/Virtualenvs/wx-ai-intel-demo/lib/python3.11/site-packages (from requests->huggingface-hub>=0.15.1->sentence-transformers) (2024.7.4)\n",
      "Requirement already satisfied: mpmath<1.4,>=1.1.0 in /Users/flaviajaninebeo/Documents/Virtualenvs/wx-ai-intel-demo/lib/python3.11/site-packages (from sympy->torch>=1.11.0->sentence-transformers) (1.3.0)\n",
      "\n",
      "\u001b[1m[\u001b[0m\u001b[34;49mnotice\u001b[0m\u001b[1;39;49m]\u001b[0m\u001b[39;49m A new release of pip is available: \u001b[0m\u001b[31;49m24.1.2\u001b[0m\u001b[39;49m -> \u001b[0m\u001b[32;49m24.2\u001b[0m\n",
      "\u001b[1m[\u001b[0m\u001b[34;49mnotice\u001b[0m\u001b[1;39;49m]\u001b[0m\u001b[39;49m To update, run: \u001b[0m\u001b[32;49mpip install --upgrade pip\u001b[0m\n",
      "Requirement already satisfied: ibm_watsonx_ai in /Users/flaviajaninebeo/Documents/Virtualenvs/wx-ai-intel-demo/lib/python3.11/site-packages (1.1.6)\n",
      "Requirement already satisfied: requests in /Users/flaviajaninebeo/Documents/Virtualenvs/wx-ai-intel-demo/lib/python3.11/site-packages (from ibm_watsonx_ai) (2.32.2)\n",
      "Requirement already satisfied: httpx in /Users/flaviajaninebeo/Documents/Virtualenvs/wx-ai-intel-demo/lib/python3.11/site-packages (from ibm_watsonx_ai) (0.27.0)\n",
      "Requirement already satisfied: urllib3 in /Users/flaviajaninebeo/Documents/Virtualenvs/wx-ai-intel-demo/lib/python3.11/site-packages (from ibm_watsonx_ai) (2.2.2)\n",
      "Requirement already satisfied: pandas<2.2.0,>=0.24.2 in /Users/flaviajaninebeo/Documents/Virtualenvs/wx-ai-intel-demo/lib/python3.11/site-packages (from ibm_watsonx_ai) (2.1.4)\n",
      "Requirement already satisfied: certifi in /Users/flaviajaninebeo/Documents/Virtualenvs/wx-ai-intel-demo/lib/python3.11/site-packages (from ibm_watsonx_ai) (2024.7.4)\n",
      "Requirement already satisfied: lomond in /Users/flaviajaninebeo/Documents/Virtualenvs/wx-ai-intel-demo/lib/python3.11/site-packages (from ibm_watsonx_ai) (0.3.3)\n",
      "Requirement already satisfied: tabulate in /Users/flaviajaninebeo/Documents/Virtualenvs/wx-ai-intel-demo/lib/python3.11/site-packages (from ibm_watsonx_ai) (0.9.0)\n",
      "Requirement already satisfied: packaging in /Users/flaviajaninebeo/Documents/Virtualenvs/wx-ai-intel-demo/lib/python3.11/site-packages (from ibm_watsonx_ai) (24.1)\n",
      "Requirement already satisfied: ibm-cos-sdk<2.14.0,>=2.12.0 in /Users/flaviajaninebeo/Documents/Virtualenvs/wx-ai-intel-demo/lib/python3.11/site-packages (from ibm_watsonx_ai) (2.13.6)\n",
      "Requirement already satisfied: importlib-metadata in /Users/flaviajaninebeo/Documents/Virtualenvs/wx-ai-intel-demo/lib/python3.11/site-packages (from ibm_watsonx_ai) (8.2.0)\n",
      "Requirement already satisfied: ibm-cos-sdk-core==2.13.6 in /Users/flaviajaninebeo/Documents/Virtualenvs/wx-ai-intel-demo/lib/python3.11/site-packages (from ibm-cos-sdk<2.14.0,>=2.12.0->ibm_watsonx_ai) (2.13.6)\n",
      "Requirement already satisfied: ibm-cos-sdk-s3transfer==2.13.6 in /Users/flaviajaninebeo/Documents/Virtualenvs/wx-ai-intel-demo/lib/python3.11/site-packages (from ibm-cos-sdk<2.14.0,>=2.12.0->ibm_watsonx_ai) (2.13.6)\n",
      "Requirement already satisfied: jmespath<=1.0.1,>=0.10.0 in /Users/flaviajaninebeo/Documents/Virtualenvs/wx-ai-intel-demo/lib/python3.11/site-packages (from ibm-cos-sdk<2.14.0,>=2.12.0->ibm_watsonx_ai) (1.0.1)\n",
      "Requirement already satisfied: python-dateutil<3.0.0,>=2.9.0 in /Users/flaviajaninebeo/Documents/Virtualenvs/wx-ai-intel-demo/lib/python3.11/site-packages (from ibm-cos-sdk-core==2.13.6->ibm-cos-sdk<2.14.0,>=2.12.0->ibm_watsonx_ai) (2.9.0.post0)\n",
      "Requirement already satisfied: numpy<2,>=1.23.2 in /Users/flaviajaninebeo/Documents/Virtualenvs/wx-ai-intel-demo/lib/python3.11/site-packages (from pandas<2.2.0,>=0.24.2->ibm_watsonx_ai) (1.26.4)\n",
      "Requirement already satisfied: pytz>=2020.1 in /Users/flaviajaninebeo/Documents/Virtualenvs/wx-ai-intel-demo/lib/python3.11/site-packages (from pandas<2.2.0,>=0.24.2->ibm_watsonx_ai) (2024.1)\n",
      "Requirement already satisfied: tzdata>=2022.1 in /Users/flaviajaninebeo/Documents/Virtualenvs/wx-ai-intel-demo/lib/python3.11/site-packages (from pandas<2.2.0,>=0.24.2->ibm_watsonx_ai) (2024.1)\n",
      "Requirement already satisfied: charset-normalizer<4,>=2 in /Users/flaviajaninebeo/Documents/Virtualenvs/wx-ai-intel-demo/lib/python3.11/site-packages (from requests->ibm_watsonx_ai) (3.3.2)\n",
      "Requirement already satisfied: idna<4,>=2.5 in /Users/flaviajaninebeo/Documents/Virtualenvs/wx-ai-intel-demo/lib/python3.11/site-packages (from requests->ibm_watsonx_ai) (3.7)\n",
      "Requirement already satisfied: anyio in /Users/flaviajaninebeo/Documents/Virtualenvs/wx-ai-intel-demo/lib/python3.11/site-packages (from httpx->ibm_watsonx_ai) (4.4.0)\n",
      "Requirement already satisfied: httpcore==1.* in /Users/flaviajaninebeo/Documents/Virtualenvs/wx-ai-intel-demo/lib/python3.11/site-packages (from httpx->ibm_watsonx_ai) (1.0.5)\n",
      "Requirement already satisfied: sniffio in /Users/flaviajaninebeo/Documents/Virtualenvs/wx-ai-intel-demo/lib/python3.11/site-packages (from httpx->ibm_watsonx_ai) (1.3.1)\n",
      "Requirement already satisfied: h11<0.15,>=0.13 in /Users/flaviajaninebeo/Documents/Virtualenvs/wx-ai-intel-demo/lib/python3.11/site-packages (from httpcore==1.*->httpx->ibm_watsonx_ai) (0.14.0)\n",
      "Requirement already satisfied: zipp>=0.5 in /Users/flaviajaninebeo/Documents/Virtualenvs/wx-ai-intel-demo/lib/python3.11/site-packages (from importlib-metadata->ibm_watsonx_ai) (3.20.0)\n",
      "Requirement already satisfied: six>=1.10.0 in /Users/flaviajaninebeo/Documents/Virtualenvs/wx-ai-intel-demo/lib/python3.11/site-packages (from lomond->ibm_watsonx_ai) (1.16.0)\n",
      "\n",
      "\u001b[1m[\u001b[0m\u001b[34;49mnotice\u001b[0m\u001b[1;39;49m]\u001b[0m\u001b[39;49m A new release of pip is available: \u001b[0m\u001b[31;49m24.1.2\u001b[0m\u001b[39;49m -> \u001b[0m\u001b[32;49m24.2\u001b[0m\n",
      "\u001b[1m[\u001b[0m\u001b[34;49mnotice\u001b[0m\u001b[1;39;49m]\u001b[0m\u001b[39;49m To update, run: \u001b[0m\u001b[32;49mpip install --upgrade pip\u001b[0m\n"
     ]
    }
   ],
   "source": [
    "# ! conda create -y -n milvus python=3.10\n",
    "\n",
    "! pip install pymilvus==2.4.0\n",
    "! pip install langchain\n",
    "! pip install ibm-generative-ai\n",
    "! pip install unstructured\n",
    "! pip install huggingface-hub\n",
    "! pip install sentence-transformers\n",
    "! pip install ibm_watsonx_ai"
   ]
  },
  {
   "cell_type": "code",
   "execution_count": 2,
   "metadata": {},
   "outputs": [
    {
     "data": {
      "text/plain": [
       "False"
      ]
     },
     "execution_count": 2,
     "metadata": {},
     "output_type": "execute_result"
    }
   ],
   "source": [
    "import os\n",
    "import requests\n",
    "import json\n",
    "\n",
    "from dotenv import load_dotenv\n",
    "\n",
    "from langchain_community.document_loaders import UnstructuredURLLoader\n",
    "\n",
    "from langchain.text_splitter import CharacterTextSplitter\n",
    "from langchain_community.vectorstores import Milvus\n",
    "\n",
    "from langchain.prompts import PromptTemplate\n",
    "from langchain.callbacks.base import BaseCallbackHandler\n",
    "\n",
    "# BAM\n",
    "from genai.extensions.langchain import LangChainInterface\n",
    "from genai.credentials import Credentials\n",
    "from genai import Client\n",
    "\n",
    "from genai.schema import TextGenerationParameters\n",
    "\n",
    "from ibm_watsonx_ai.foundation_models import Embeddings\n",
    "\n",
    "load_dotenv() "
   ]
  },
  {
   "cell_type": "code",
   "execution_count": 3,
   "metadata": {},
   "outputs": [],
   "source": [
    "token = \"\"\n",
    "project_id = \"\""
   ]
  },
  {
   "cell_type": "code",
   "execution_count": 4,
   "metadata": {},
   "outputs": [
    {
     "data": {
      "text/plain": [
       "['gogo']"
      ]
     },
     "execution_count": 4,
     "metadata": {},
     "output_type": "execute_result"
    }
   ],
   "source": [
    "text_splitter = CharacterTextSplitter(chunk_size=2000, chunk_overlap=0)\n",
    "text_splitter.split_text(\"gogo\")"
   ]
  },
  {
   "cell_type": "code",
   "execution_count": 5,
   "metadata": {},
   "outputs": [
    {
     "data": {
      "text/plain": [
       "<ibm_watsonx_ai.foundation_models.embeddings.embeddings.Embeddings at 0x3046a4510>"
      ]
     },
     "execution_count": 5,
     "metadata": {},
     "output_type": "execute_result"
    }
   ],
   "source": [
    "embedding_model = Embeddings(\n",
    "            model_id=\"ibm/slate-125m-english-rtrvr\",\n",
    "            credentials={\"api_key\": token, \"url\": \"https://us-south.ml.cloud.ibm.com\"},\n",
    "            project_id=project_id,\n",
    "            params={\n",
    "                \"truncate_input_tokens\": 512\n",
    "            }\n",
    "        )\n",
    "embedding_model"
   ]
  },
  {
   "cell_type": "code",
   "execution_count": 19,
   "metadata": {},
   "outputs": [],
   "source": [
    "# INITIALIZE A MILVUS COLLECTION WITH EMBEDDINGS FROM A SET OF DOCUMENTS\n",
    "\n",
    "urls = [\n",
    "    \"https://en.wikipedia.org/wiki/Silvio_Santos\",\n",
    "]\n",
    "\n",
    "loader = UnstructuredURLLoader(urls=urls)\n",
    "data = loader.load()"
   ]
  },
  {
   "cell_type": "code",
   "execution_count": 20,
   "metadata": {},
   "outputs": [
    {
     "name": "stderr",
     "output_type": "stream",
     "text": [
      "Created a chunk of size 14723, which is longer than the specified 2000\n"
     ]
    }
   ],
   "source": [
    "\n",
    "text_splitter = CharacterTextSplitter(chunk_size=2000, chunk_overlap=0)\n",
    "docs = text_splitter.split_documents(data)\n",
    "\n",
    "vector_db = Milvus.from_documents(\n",
    "    docs,\n",
    "    embedding_model,\n",
    "    drop_old=True,  # Drop the old Milvus collection if it exists\n",
    "    connection_args={\"host\":\"823135eb-c10e-4ae5-9d93-62b881faa87b.cpltrlid0d8r2cjtm4e0.lakehouse.appdomain.cloud\", \n",
    "                     \"port\":\"31660\", \"secure\":True,\n",
    "                     \"user\":\"ibmlhapikey\", \"password\": token},\n",
    ")"
   ]
  },
  {
   "cell_type": "code",
   "execution_count": 21,
   "metadata": {},
   "outputs": [
    {
     "data": {
      "text/plain": [
       "[Document(metadata={'source': 'https://en.wikipedia.org/wiki/Silvio_Santos', 'pk': 451797497425623813}, page_content=\"In 1999, Santos premiered Show do Milhão, a game show that was influenced by Who Wants to Be a Millionaire? (which would not have a local version until 2017, hosted by Luciano Huck for Globo) and become a major success for SBT through the early-2000s.[20][21] In 2001, Santos entered the reality television market by premiering Casa dos Artistas. The show was inspired by the Dutch format Big Brother; Santos had attempted to acquire the local rights to the format for SBT, but lost to Globo. The series was developed in secret, and only revealed on its premiere date of 28 October 2001—beating Globo's Big Brother Brasil to air, and drawing away viewers from Globo's highly-viewed newsmagazine Fantástico. Its similarities to Big Brother led to Globo briefly reaching an injunction to halt its broadcast, but Casa would later return to air. The first season was successful, with SBT averaging 46 ratings points.[22][23]\\n\\nBy the 2000s, Programa Silvio Santos was primarily structured as a block of multiple programs rather than as a singular variety show, with Santos focusing more on hosting individual programs (particularly on Wednesday nights). In 2008, Programa Silvio Santos was revived as a variety show, with Santos reviving classic segments and features.[24][25]\\n\\nWith a net worth of US$3.2 billion, Santos was the single biggest individual/natural person taxpayer in Brazil.[26]\\n\\nLegacy\\n\\n[edit]\\n\\nHis trajectory has led to many comparisons between him and Sir Richard Branson. Due to his extremely charismatic personality, Silvio became one of the most influential and beloved people in Brazil.[27] Due to his peculiar mannerisms, impersonations of him have become a staple of Brazilian humor.[28][29][30] Santos's other trademark was wearing a full-size microphone on his chest (although he would eventually abandon this practice in late 2014).\"),\n",
       " Document(metadata={'source': 'https://en.wikipedia.org/wiki/Silvio_Santos', 'pk': 451797497425623810}, page_content=\"In 1960, TV Paulista signed Santos to host a television program—Vamos Brincar de Forca—which would incorporate variety entertainment and raffles, and be used as a platform to promote Baú da Felicidade.[5][8] He would also go on to host other programs for TV Tupi. In 1963, he moved to a Sunday afternoon variety show on TV Paulista, Programa Silvio Santos.[5][9] In 1966, TV Paulista became part of the new Rede Globo, which signed Santos to a five-year deal. In 1971, Santos began to present the Troféu Imprensa, an awards presentation for Brazilian television. He opened a studio, Estudios Silvio Santos Cinema e Televisao, at the former facilities of TV Excelsior in 1974.[5]\\n\\nTVS and SBT\\n\\n[edit]\\n\\nIn the early-1970s, Rede Globo began to institute a new quality standard for its programming in order to help improve viewership, with a stronger focus on novellas, news, sports, and films; Santos began to experience conflicts with the network due to these policies, and almost left in 1972. Santos sought to establish his own channel, but his contract with Globo prevented him from holding ownership stakes in a competitor. In the interim, Santos had a partner—Dermerval Gonçalves—covertly offer to acquire a stake in TV Record on his behalf to keep his programming on the air in São Paulo.[10][11]\\n\\nWhen the Brazilian government began taking applications for a new VHF station in Rio on channel 11, Santos would bid for its concession with the support of Manuel de Nóbrega and other television personalities (including Carlos Eduardo Imperial, who had previously been critical of Santos' programming). Santos would be awarded the concession for channel 11 in December 1975, becoming the first Brazilian television artist to own a broadcast station.[5]\"),\n",
       " Document(metadata={'source': 'https://en.wikipedia.org/wiki/Silvio_Santos', 'pk': 451797497425623814}, page_content='Silvio Santos was portrayed by José Rubens Chachá in the 2022 biographical television series O Rei da TV.[31] He was also portrayed by Rodrigo Faro in the 2024 biographical film Silvio.[32][33]\\n\\nDeath\\n\\n[edit]\\n\\nMain article: Death of Silvio Santos\\n\\nSantos died due to a bronchopneumonia, a complication provoked by H1N1, in São Paulo, on August 17, 2024. He was 93, and had been hospitalized at Albert Einstein Israelite Hospital since the beginning of August.[34][35][36]\\n\\nHis body was not veiled and was buried in Israelite Cemetery of Butanta.[37] He did not want tributes or large wakes, which was respected by the family. Because he was Jewish, he was buried, since he could not be cremated.[38]\\n\\nSee also\\n\\n[edit]\\n\\nList of Brazilians by net worth\\n\\nReferences\\n\\n[edit]\\n\\n^ a b c d Editora, On Line; Editora, Grandes Ídolos On Line (September 18, 2017). Te Contei? Grandes Ídolos Edição Luxo (Silvio Santos) Ed.01. On Line Editora.\\n\\n^ \"Silvio Santos presidente \\'teria sido revolucionário\\', diz autor\". UOL (in Brazilian Portuguese). Archived from the original on 2022-07-20. Retrieved 2021-06-30.\\n\\n^ Antunes, Anderson (2013-02-20). \"Meet TV Star Silvio Santos, Brazil\\'s First Ever Celebrity Billionaire\". Forbes.com. Archived from the original on 2013-02-22. Retrieved 2024-08-18.\\n\\n^ a b c \"Behind the Headlines: Jewish Tv Celebrity is a Favorite in Brazilian Elections Next Week\". Jewish Telegraphic Agency. 1989-11-08. Archived from the original on 2015-08-07. Retrieved 2019-02-06.\\n\\n^ a b c d e f g h i j k l m Silva, Arlindo (2002). A fantástica história de Silvio Santos (in Brazilian Portuguese). Editora do Brasil. ISBN 978-85-10-03063-2.\\n\\n^ Dimenstein, Gilberto (21 May 2000). \"O judeu Silvio Santos e o câncer\" [The Jewish Silvio Santos and cancer]. Folha de S.Paulo (in Brazilian Portuguese). Archived from the original on 2003-10-09. Retrieved 2024-08-18.'),\n",
       " Document(metadata={'source': 'https://en.wikipedia.org/wiki/Silvio_Santos', 'pk': 451797497425623818}, page_content='^ \"Silvio Santos, um dos maiores comunicadores da TV brasileira, morre aos 93 anos\" [Silvio Santos, one of the greatest communicators on Brazilian TV, dies at 93]. CNN Brazil (in Brazilian Portuguese). 2024-08-17. Archived from the original on 2024-08-17. Retrieved 2024-08-17.\\n\\n^ \"Morre Silvio Santos, figura mitológica da televisão brasileira, aos 93 anos\" [Silvio Santos, a mythological figure on Brazilian television, dies at 93]. Púbico (in European Portuguese). 2024-08-17. Archived from the original on 2024-08-19. Retrieved 2024-08-18.\\n\\n^ \"Em cerimônia judaica, Silvio Santos é enterrado no Cemitério Israelita do Butantã, Zona Oeste de SP\" [In a Jewish ceremony, Silvio Santos is buried in the Israeli Cemetery of Butantã, West Zone of SP]. G1 (in Brazilian Portuguese). 2024-08-18. Archived from the original on 2024-08-19. Retrieved 2024-08-18.\\n\\n^ Oliveira, Fábia (2024-08-17). \"Morre Silvio Santos; apresentador estava internado há 17 dias\" [Silvio Santos dies; the presenter had been hospitalized for 17 days]. Metrópoles (in Brazilian Portuguese). Archived from the original on 2024-08-17. Retrieved 2024-08-17.\\n\\nFurther reading\\n\\n[edit]\\n\\nGrinberg, Keila (2005). Os judeus no Brasil. Editora Record. ISBN 85-200-0699-X.\\n\\nSilva, Arlindo (2002). A fantástica história de Sílvio Santos. Editora do Brasil. ISBN 85-10-03063-4.\\n\\nExternal links\\n\\n[edit]\\n\\nSílvio Santos at IMDb\\n\\nOfficial SBT site\\n\\nOfficial Group\\n\\nSilvio Santos discography at Discogs')]"
      ]
     },
     "execution_count": 21,
     "metadata": {},
     "output_type": "execute_result"
    }
   ],
   "source": [
    "# TEST COLLECTION INITIALISATION WITH A SIMPLE SIMILARITY SEARCH\n",
    "\n",
    "query = \"Which year Silvio Santos step away from television?\"\n",
    "docs = vector_db.similarity_search(query)\n",
    "\n",
    "docs"
   ]
  },
  {
   "cell_type": "code",
   "execution_count": 22,
   "metadata": {},
   "outputs": [],
   "source": [
    "# SET LANGCHAIN INTERFACE FOR GEN AI\n",
    "\n",
    "creds = Credentials(token,\n",
    "                    api_endpoint=\"https://us-south.ml.cloud.ibm.com\") # credentials object to access the LLM service\n",
    "\n",
    "\n",
    "params = TextGenerationParameters(decoding_method=\"sample\",temperature=0.7, top_p=1, top_k=50, min_new_tokens=0, max_new_tokens=200\n",
    "                        )\n",
    "\n",
    "model = LangChainInterface(model_id= 'ibm/granite-13b-chat-v2', parameters=params, client=Client(credentials=creds))\n",
    "\n",
    "prompt_template = (\n",
    "            \"\"\"[INST]\n",
    "            <<SYS>>\n",
    "                here are your instructions:\n",
    "            1. You will be given a context that should be used to reply to user questions. The context will begin with \\\"BEGIN\\\" and will end with \\\"END\\\".\n",
    "            2. You should generate the next response using informations available in the context.\n",
    "            3. If you can't find an answer, say \\\"I don't know\\\".\n",
    "            4. Do not use any other knowledge.\n",
    "            5. Specify the sentences in context that justify your answer.\n",
    "                BEGIN {context} END\n",
    "            <</SYS>>\n",
    "            <<HUMAN>>\n",
    "              {question}\n",
    "            <</HUMAN>>\n",
    "            [/INST]\n",
    "            \"\"\"\n",
    "        )\n",
    "\n",
    "customprompt = PromptTemplate(\n",
    "            template=prompt_template, input_variables=[\"context\", \"question\"]\n",
    "        )"
   ]
  },
  {
   "cell_type": "code",
   "execution_count": 23,
   "metadata": {},
   "outputs": [
    {
     "data": {
      "text/plain": [
       "LangChainInterface(client=<genai.client.Client object at 0x32439ca90>, model_id='ibm/granite-13b-chat-v2', parameters=TextGenerationParameters(beam_width=None, decoding_method='sample', include_stop_sequence=None, length_penalty=None, max_new_tokens=200, min_new_tokens=0, random_seed=None, repetition_penalty=None, return_options=None, stop_sequences=None, temperature=0.7, time_limit=None, top_k=50, top_p=1.0, truncate_input_tokens=None, typical_p=None))"
      ]
     },
     "execution_count": 23,
     "metadata": {},
     "output_type": "execute_result"
    }
   ],
   "source": [
    "model"
   ]
  },
  {
   "cell_type": "code",
   "execution_count": 24,
   "metadata": {},
   "outputs": [],
   "source": [
    "def append_docs(docs):\n",
    "    context = ''\n",
    "    for doc in docs:\n",
    "        context += doc.page_content\n",
    "    return context\n",
    "\n",
    "def get_wkc_token_on_cloud(apikey):\n",
    "    body = {\"grant_type\": \"urn:ibm:params:oauth:grant-type:apikey\",\n",
    "            \"apikey\": apikey}\n",
    "\n",
    "    token_request = requests.post('https://iam.cloud.ibm.com/identity/token',\n",
    "                                  data=body, headers={'content-type': 'application/x-www-form-urlencoded'})\n",
    "    try:\n",
    "        token_request.raise_for_status()\n",
    "    except requests.exceptions.HTTPError as e:\n",
    "        raise e  # return code not equals to 200\n",
    "\n",
    "    return json.loads(token_request.text)[\"access_token\"]\n"
   ]
  },
  {
   "cell_type": "code",
   "execution_count": 25,
   "metadata": {},
   "outputs": [],
   "source": [
    "def qa(question):\n",
    "    docs = vector_db.similarity_search(query)\n",
    "\n",
    "    print(str(len(docs))+\" nearest embeddings found;\")\n",
    "    \n",
    "    context = append_docs(docs=docs)\n",
    "    prompt = customprompt.format(context=context, question=question)\n",
    "\n",
    "    barear_token = get_wkc_token_on_cloud(token)\n",
    "\n",
    "    url = \"https://us-south.ml.cloud.ibm.com/ml/v1/text/generation?version=2023-05-29\"\n",
    "\n",
    "    body = {\n",
    "        \"input\": prompt,\n",
    "        \"parameters\": {\n",
    "            \"decoding_method\": \"greedy\",\n",
    "            \"max_new_tokens\": 900,\n",
    "            \"repetition_penalty\": 1.05\n",
    "        },\n",
    "        \"model_id\": \"ibm/granite-13b-chat-v2\",\n",
    "        \"project_id\": project_id\n",
    "    }\n",
    "\n",
    "    headers = {\n",
    "        \"Accept\": \"application/json\",\n",
    "        \"Content-Type\": \"application/json\",\n",
    "        \"Authorization\": \"Bearer {}\".format(barear_token)\n",
    "    }\n",
    "\n",
    "    response = requests.post(\n",
    "        url,\n",
    "        headers=headers,\n",
    "        json=body\n",
    "    )\n",
    "\n",
    "    if response.status_code != 200:\n",
    "        raise Exception(\"Non-200 response: \" + str(response.text))\n",
    "    \n",
    "    data = response.json()\n",
    "    \n",
    "    return data['results'][0]['generated_text']"
   ]
  },
  {
   "cell_type": "code",
   "execution_count": 29,
   "metadata": {},
   "outputs": [
    {
     "name": "stdout",
     "output_type": "stream",
     "text": [
      "4 nearest embeddings found;\n"
     ]
    },
    {
     "data": {
      "text/plain": [
       "\"I don't know. The context does not provide information about Silvio Santos's siblings.\""
      ]
     },
     "execution_count": 29,
     "metadata": {},
     "output_type": "execute_result"
    }
   ],
   "source": [
    "qa(\"How many siblings did Silvio Santos had?\")"
   ]
  },
  {
   "cell_type": "code",
   "execution_count": 30,
   "metadata": {},
   "outputs": [
    {
     "name": "stdout",
     "output_type": "stream",
     "text": [
      "4 nearest embeddings found;\n"
     ]
    },
    {
     "data": {
      "text/plain": [
       "'Santos had a net worth of US$3.2 billion.'"
      ]
     },
     "execution_count": 30,
     "metadata": {},
     "output_type": "execute_result"
    }
   ],
   "source": [
    "qa(\"How much money did Silvio Santos had?\")"
   ]
  },
  {
   "cell_type": "code",
   "execution_count": 28,
   "metadata": {},
   "outputs": [
    {
     "name": "stdout",
     "output_type": "stream",
     "text": [
      "4 nearest embeddings found;\n"
     ]
    },
    {
     "data": {
      "text/plain": [
       "'Santos died on August 17, 2024.'"
      ]
     },
     "execution_count": 28,
     "metadata": {},
     "output_type": "execute_result"
    }
   ],
   "source": [
    "qa(\"Silvio Santos year of death?\")"
   ]
  }
 ],
 "metadata": {
  "kernelspec": {
   "display_name": "watsonx",
   "language": "python",
   "name": "python3"
  },
  "language_info": {
   "codemirror_mode": {
    "name": "ipython",
    "version": 3
   },
   "file_extension": ".py",
   "mimetype": "text/x-python",
   "name": "python",
   "nbconvert_exporter": "python",
   "pygments_lexer": "ipython3",
   "version": "3.11.8"
  }
 },
 "nbformat": 4,
 "nbformat_minor": 2
}
